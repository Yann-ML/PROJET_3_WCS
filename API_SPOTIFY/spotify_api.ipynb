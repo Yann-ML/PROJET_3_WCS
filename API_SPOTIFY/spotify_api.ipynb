{
 "cells": [
  {
   "cell_type": "markdown",
   "metadata": {},
   "source": [
    "# Utilisation de l'API Spotify"
   ]
  },
  {
   "cell_type": "code",
   "execution_count": null,
   "metadata": {},
   "outputs": [],
   "source": [
    "# Listes des codes fonctionnels pour la gestion de l'API Spotify à travers l'utilisation de la bibliothèque Spotipy"
   ]
  },
  {
   "cell_type": "markdown",
   "metadata": {},
   "source": [
    "- Importation des bibliothèques principales et implémentation des logs"
   ]
  },
  {
   "cell_type": "code",
   "execution_count": null,
   "metadata": {},
   "outputs": [],
   "source": [
    "# Kernel 3.11.9 pour mon VSC\n",
    "# on importe les librairies\n",
    "import spotipy\n",
    "from spotipy.oauth2 import SpotifyOAuth\n",
    "import pandas as pd\n",
    "import time # on importe le time pour faire des pauses vis à vis de l'api qui nous donne un rate limit\n",
    "\n",
    "# Premier compte : client_id='5a63812d960f4789a86499ecb6073348', client_secret='31cf73ebc10247fcb28175c1a777f34a'\n",
    "# deuxième compte : client_id='f692473a0b79476398c28bc4c2248aec', client_secret='dcffa96d20e54c9c85016ffc5bc1fcdb'\n",
    "\n",
    "# on créé une connexion avec les données du compte.\n",
    "sp = spotipy.Spotify(auth_manager=SpotifyOAuth(client_id='5a63812d960f4789a86499ecb6073348',\n",
    "\n",
    "                                               client_secret='31cf73ebc10247fcb28175c1a777f34a',\n",
    "\n",
    "                                               redirect_uri='http://localhost:8080',\n",
    "\n",
    "                                               scope='user-library-read'))"
   ]
  },
  {
   "cell_type": "markdown",
   "metadata": {},
   "source": [
    "### Récupération de la liste des artistes et groupes"
   ]
  },
  {
   "cell_type": "code",
   "execution_count": null,
   "metadata": {},
   "outputs": [],
   "source": [
    "# on utilise un dataframe de deux colonnes pour récupérer nom et id des artistes\n",
    "df_list_artist = pd.DataFrame(columns=['artist_name','artist_id'])\n",
    "\n",
    "# création d'une fonction récupérant la list des artistes sur une années donnée en argument\n",
    "def search_artist_year( year):    \n",
    "    \n",
    "    # nous avons besoin de deux listes pour récupérer les noms et les id spotify que l'on réinitialise à chaque fois\n",
    "    artist_name = []\n",
    "    id_artist_spotify = []\n",
    "    \n",
    "    # on est limité à 1000 retours max que l'on fait à travers des pages de 50 retours via un for\n",
    "    for i in range(0,1000,50):\n",
    "        \n",
    "        # on lance l'API pour récupérer les données de la page en cours avec l'année en paramètre (en str)\n",
    "        track_results = sp.search(q='year:'+str(year), type='album', limit=50,offset=i)\n",
    "        \n",
    "        # on intègre les données récupérées dans les bonnes listes\n",
    "        # on parcours les différents albums de la page\n",
    "        for i, t in enumerate(track_results['albums']['items']):\n",
    "            # pour chaque album on récupère le nom de l'artiste et son id Spotify (Plusieurs autres champs possibles)\n",
    "            # récupéranles ici : https://developer.spotify.com/documentation/web-api/reference/search\n",
    "            artist_name.append(t['artists'][0]['name'])\n",
    "            id_artist_spotify.append(t['artists'][0]['id'])\n",
    "    \n",
    "    # une fois les 1000 lignes récépérées on créé un DataFrame que l'on retourne en réponse à l'appel de cette fonction\n",
    "    df_artist = pd.DataFrame({'artist_name' : artist_name, 'artist_id' : id_artist_spotify})\n",
    "    df_artist.drop_duplicates(inplace=True)\n",
    "    df_list_artist2 = pd.concat([df_list_artist, df_artist])\n",
    "    \n",
    "    # on affiche un petit message pour chaque année récupérée\n",
    "    print(f'Année {year} effectuée ! avec {df_artist.shape[0]} lignes sur l\"année et {df_list_artist2.shape[0]} lignes sur la liste')\n",
    "    return df_list_artist2"
   ]
  },
  {
   "cell_type": "code",
   "execution_count": null,
   "metadata": {},
   "outputs": [],
   "source": [
    "# mise en place de la fonction sur une routine de 25 ans. Problème, nous sommes limités à 1000 retours par pages de 50 max. On passe peut être à coté de certains artistes\n",
    "for year in range(2000, 2026, 1):\n",
    "    df_list_artist = search_artist_year(year)\n",
    "    # on retire les doublons puisque le même artistes peut parfaitement sortir plusieurs titres la même année et l'on souhaite juste la liste des artistes. \n",
    "    df_list_artist.drop_duplicates(inplace=True)"
   ]
  },
  {
   "cell_type": "code",
   "execution_count": null,
   "metadata": {},
   "outputs": [],
   "source": [
    "# export du DF en CSV pour la conservation\n",
    "df_list_artist.to_csv('liste_artistes.csv', index=False)"
   ]
  },
  {
   "cell_type": "markdown",
   "metadata": {},
   "source": [
    "### Récupération de la liste des albums"
   ]
  },
  {
   "cell_type": "code",
   "execution_count": null,
   "metadata": {},
   "outputs": [],
   "source": [
    "# pour la mise en place nous avons utilisé un fichier créé grace à la fonction précédente.  \n",
    "data_artistes = pd.read_csv('info_artist_0-1754.csv')\n",
    "\n",
    "# vu que c'est le nouveau fichier, je ne veux que les id avec les noms\n",
    "data_artistes = data_artistes[['artist_name','artist_id']]"
   ]
  },
  {
   "cell_type": "code",
   "execution_count": 63,
   "metadata": {},
   "outputs": [],
   "source": [
    "# récupération des données via l'api pour la partie Albums\n",
    "\n",
    "# nous avons besoin de listes pour récupérer les infos des albums\n",
    "df_list_album = pd.DataFrame(columns=['artist_id','album_name','album_id','release_date','total_tracks','url_image'])\n",
    "\n",
    "# création d'une fonction récupérant la list des artistes sur une années donnée en argument\n",
    "def search_album_artist(artist_id):        \n",
    "    \n",
    "    # nous avons besoin de listes pour récupérer les noms et les id spotify que l'on réinitialise à chaque fois\n",
    "    album_name = []\n",
    "    album_id = []\n",
    "    release_date = []\n",
    "    total_tracks = []\n",
    "    url_image = []\n",
    "    \n",
    "    # on lance l'API pour récupérer les données souhaitées\n",
    "    albums_results = sp.artist_albums(artist_id, include_groups='album')    \n",
    "    \n",
    "    # on intègre les données récupérées dans les bonnes listes\n",
    "    # on parcours les différents albums de la page\n",
    "    for i, t in enumerate(albums_results['items']):\n",
    "        # pour chaque album on récupère les infos souhaitées\n",
    "        # récupéranles ici : https://developer.spotify.com/documentation/web-api/reference/get-an-artists-albums\n",
    "\n",
    "        album_name.append(t['name'])\n",
    "        album_id.append(t['id'])\n",
    "        release_date.append(t['release_date'])\n",
    "        total_tracks.append(t['total_tracks'])\n",
    "        try:\n",
    "            url_image.append(t['images'][0]['url'])\n",
    "        except:\n",
    "            url_image.append(\"\")\n",
    "\n",
    "\n",
    "    # une fois les  lignes récupérées on créé un DataFrame que l'on retourne en réponse à l'appel de cette fonction\n",
    "    df_album = pd.DataFrame({'artist_id':artist_id,\\\n",
    "                            'album_name' : album_name,\\\n",
    "                            'album_id' : album_id,\\\n",
    "                            'release_date' : release_date,\\\n",
    "                            'total_tracks' : total_tracks,\\\n",
    "                            'url_image' : url_image})\n",
    "    \n",
    "    df_list_album2 = pd.concat([df_list_album, df_album])\n",
    "\n",
    "    time.sleep(5)\n",
    "\n",
    "    # on retourne le df créé\n",
    "    return df_list_album2"
   ]
  },
  {
   "cell_type": "code",
   "execution_count": null,
   "metadata": {},
   "outputs": [],
   "source": [
    "# le test fonctionne bien pour un artiste\n",
    "test = search_album_artist('1EH9eSje47IiRyVsq3gfkl')\n",
    "test"
   ]
  },
  {
   "cell_type": "code",
   "execution_count": 6,
   "metadata": {},
   "outputs": [],
   "source": [
    "# ici on récupère la totalité des lignes de notre fichier d'artiste avec un fichier de 12000 lignes c'est 3h. J'ai ajouté un print pour connaitre le nom de l'artiste ajouté\n",
    "nb=0\n",
    "for i in range (0,len(data_artistes)):\n",
    "    df_list_album = search_album_artist(data_artistes.loc[i,'artist_id'])\n",
    "    nb += 1\n",
    "    print(f\"Albums de {data_artistes.loc[i,'artist_name']} récupérés soit {nb} albums sur {len(data_artistes)} lignes\")"
   ]
  },
  {
   "cell_type": "code",
   "execution_count": null,
   "metadata": {},
   "outputs": [],
   "source": [
    "# export du df \n",
    "df_list_album.to_csv('list_artist_album.csv', index=False)"
   ]
  },
  {
   "cell_type": "markdown",
   "metadata": {},
   "source": [
    "### Récupération des informations des artistes"
   ]
  },
  {
   "cell_type": "code",
   "execution_count": null,
   "metadata": {},
   "outputs": [],
   "source": [
    "# on récupère le fichier csv souhaité. Il doit contenir la colonne artist id avec les id des artistes recherchés.\n",
    "data_artistes = pd.read_csv('liste_artistes.csv')"
   ]
  },
  {
   "cell_type": "code",
   "execution_count": 4,
   "metadata": {},
   "outputs": [],
   "source": [
    "# récupération des données via l'api pour la partie Albums\n",
    "# via cette API https://developer.spotify.com/documentation/web-api/reference/get-an-artist\n",
    "# création d'une fonction récupérant le dataframe des artistes avec leurs id pour en récupérer les informations\n",
    "# on utilise un dataframe en entrée qui doit contenir au moins deux colonnes. une avec les id artiste ('artist_id')\n",
    "# et l'autre avec les nom d'artiste (artist_name) . on pourrait faire sans le second vu que le nom est dans l' API\n",
    "# a voir si on le fait qu'avec une liste d'ID ?\n",
    "def search_infos_artist(df):\n",
    "    # nous avons besoin de listes pour récupérer les infos des artistes\n",
    "    artist_name = []\n",
    "    artist_id = []\n",
    "    artist_popularity = []\n",
    "    artist_followers = []\n",
    "    artist_genres = []\n",
    "    artist_image = []\n",
    "    # on parcours la liste des id des artistes et grace au df on peut récupérer le nom.\n",
    "    for ele, val in enumerate(df['artist_id']):\n",
    "        # pour chaque artistes on lance une requête sur l'API pour récupérer les données\n",
    "        artist_results = sp.artist(val)\n",
    "        # on créé une liste des informations de l'liste_artistes\n",
    "        artist_name.append(artist_results['name'])\n",
    "        artist_id.append(val)\n",
    "        artist_popularity.append(artist_results['popularity'])\n",
    "        artist_followers.append(artist_results['followers']['total'])\n",
    "        artist_genres.append(artist_results['genres'])\n",
    "        try:\n",
    "            artist_image.append(artist_results['images'][0]['url'])\n",
    "        except:\n",
    "            artist_image.append(\"\")\n",
    "        time.sleep(5)\n",
    "        print(artist_results['name'], \" ajouté\")\n",
    "    \n",
    "    # une fois les lignes récépérées on créé un DataFrame que l'on retourne en réponse à l'appel de cette fonction\n",
    "    df_artist = pd.DataFrame({'artist_name':artist_name,\\\n",
    "                                'artist_id' : artist_id,\\\n",
    "                                'popularity' : artist_popularity,\\\n",
    "                                'artist_followers' : artist_followers,\\\n",
    "                                'genres' : artist_genres,\\\n",
    "                                'image' : artist_image})\n",
    "    # on patiente 1 seconde entre deux DF pour limiter l'accès à l'API\n",
    "\n",
    "    # on retourne le df créé\n",
    "    return df_artist"
   ]
  },
  {
   "cell_type": "code",
   "execution_count": null,
   "metadata": {},
   "outputs": [],
   "source": [
    "# test sur 1000 lignes de notre data. Le but sera de le faire une une seule fois pour les 11000 artiste. Soit 3h. \n",
    "df = search_infos_artist(data_artistes.head(1754))"
   ]
  },
  {
   "cell_type": "code",
   "execution_count": null,
   "metadata": {},
   "outputs": [],
   "source": [
    "# on exporte le résultats en fichier CSV\n",
    "df.to_csv('info_artist_0-1754.csv', index=False)"
   ]
  },
  {
   "cell_type": "markdown",
   "metadata": {},
   "source": [
    "### Récupération de la liste des titres par albums"
   ]
  },
  {
   "cell_type": "code",
   "execution_count": null,
   "metadata": {},
   "outputs": [],
   "source": [
    "# on conserve le df créé précédemment. ou on le récupère\n",
    "\n",
    "df_list_album = pd.read_csv('liste_albums_artistes_0-1754.csv') "
   ]
  },
  {
   "cell_type": "code",
   "execution_count": null,
   "metadata": {},
   "outputs": [],
   "source": [
    "# création de liste de 20 éléments pour l'API des titres. On va faire une liste de liste\n",
    "\n",
    "# on ne conserve que la colonne album_id pour créer une liste de ces id\n",
    "liste_albums_global = list(df_list_album['album_id'])\n",
    "\n",
    "# définition d'une fonction itérative utilisant le yield (Contrairement à return, yield ne termine pas la fonction ; \n",
    "# il suspend son exécution et reprend là où elle s’était arrêtée.)  cf : https://blog.alphorm.com/maitriser-yield-python\n",
    "\n",
    "def creation_nb_liste(lst,nb):  # création d'une fonction qui prends deux arguments, une liste et un nombre. On utilisera ce nombre pour déterminer le nombre d'élément de la sous liste\n",
    "    for ele in range(0,len(lst),nb): # on parcours la liste avec un pas du nombre nb\n",
    "        yield lst[ele:ele + nb]  # a chaque itération on slicer la liste de nb valeurs pour créer une sous liste."
   ]
  },
  {
   "cell_type": "code",
   "execution_count": null,
   "metadata": {},
   "outputs": [],
   "source": [
    "# on utilise la fonction précédente pour générer des listes de 20 id. Nous aurons au final un liste de listes pour l'envoyer à l'API qui peut la gérer\n",
    "liste_album_par_vingt = list(creation_nb_liste(liste_albums_global, 20))"
   ]
  },
  {
   "cell_type": "code",
   "execution_count": null,
   "metadata": {},
   "outputs": [],
   "source": [
    "# récupération des données via l'api pour la partie titres\n",
    "\n",
    "# nous avons besoin de listes pour récupérer les infos des albums\n",
    "df_track_album = pd.DataFrame(columns=['album_name','album_id','album_type','total_tracks','release_date','release_date_precision','upc','label','popularity','images','disc_number','track_number','track_id','track_name','duration_ms'])\n",
    "\n",
    "# création d'une fonction récupérant la list des artistes sur une années donnée en argument\n",
    "def search_track_album(liste_albums):    \n",
    "    \n",
    "    # nous avons besoin de listes pour récupérer les informations\n",
    "    \n",
    "    album_name = []\n",
    "    album_id = []\n",
    "    album_type = []\n",
    "    total_tracks = []\n",
    "    release_date = []\n",
    "    release_date_precision = []\n",
    "    upc = []\n",
    "    label = []\n",
    "    popularity = []\n",
    "    images = []\n",
    "    disc_number = []\n",
    "    track_number = []\n",
    "    track_id = []\n",
    "    track_name = []\n",
    "    duration_ms = []\n",
    "        \n",
    "    # on lance l'API pour récupérer les données, pas de notion de pages ici. Nous avons des sous listes pour avoir tous les titres et nous fonctionnons avec \n",
    "    # une liste des albums recherchés.\n",
    "    albums_track_results = sp.albums(liste_albums)\n",
    "\n",
    "    # On parcours le nombre d'album que nous aurons en retour\n",
    "    for ligne,valeur in enumerate(albums_track_results['albums']):\n",
    "    # on intègre les données récupérées dans les bonnes listes, on utilise un enumérate pour lister les différents titres des albums. \n",
    "    # il y aura deux partie, une avec des append sur les infos globales toujours identiques et une partie sur les infos de chaque titre\n",
    "\n",
    "        for i, t in enumerate(albums_track_results['albums'][ligne]['tracks']['items']):\n",
    "            # pour chaque album on récupère le nom de l'artiste et son id Spotify (Plusieurs autres champs possibles)\n",
    "            # récupéranles ici : https://developer.spotify.com/documentation/web-api/reference/get-multiple-albums\n",
    "\n",
    "            # on récupère les quelques données propres à l'album sans utiliser la boucle mais on le fait dans la boucle pour avoir des tableaux de même valeurs pour le df:\n",
    "            album_name.append(albums_track_results['albums'][ligne]['name'])\n",
    "            album_id.append(albums_track_results['albums'][ligne]['id'])\n",
    "            album_type.append(albums_track_results['albums'][ligne]['album_type'])\n",
    "            total_tracks.append(albums_track_results['albums'][ligne]['total_tracks'])\n",
    "            release_date.append(albums_track_results['albums'][ligne]['release_date'])\n",
    "            release_date_precision.append(albums_track_results['albums'][ligne]['release_date_precision'])\n",
    "            \n",
    "            # mise en place d'un try puisque certaines valeurs sont manquantes et retourne une erreur. \n",
    "            try :\n",
    "                upc.append(albums_track_results['albums'][ligne]['external_ids']['upc'])\n",
    "            except:\n",
    "                upc.append('')\n",
    "            label.append(albums_track_results['albums'][ligne]['label'])\n",
    "            popularity.append(albums_track_results['albums'][ligne]['popularity'])\n",
    "            \n",
    "            try:\n",
    "                images.append(albums_track_results['albums'][ligne]['images'][0]['url'])\n",
    "            except:\n",
    "                images.append('')    \n",
    "            # on récupère les données propre au titre en utilisant la boucle et ses valeurs\n",
    "            disc_number.append(t['disc_number'])\n",
    "            track_number.append(t['track_number'])\n",
    "            track_id.append(t['id'])\n",
    "            track_name.append(t['name'])\n",
    "            duration_ms.append(t['duration_ms'])\n",
    "\n",
    "        \n",
    "    # une fois les 1000 lignes récépérées on créé un DataFrame que l'on retourne en réponse à l'appel de cette fonction\n",
    "    df_track = pd.DataFrame({'album_name':album_name,\n",
    "                            'album_id' : album_id,\n",
    "                            'album_type' : album_type,\n",
    "                            'total_tracks' : total_tracks,\n",
    "                            'release_date' : release_date,\n",
    "                            'release_date_precision' : release_date_precision,\n",
    "                            'upc' : upc,\n",
    "                            'label' : label,\n",
    "                            'popularity' : popularity,\n",
    "                            'images' : images,\n",
    "                            'disc_number' : disc_number,\n",
    "                            'track_number' : track_number,\n",
    "                            'track_id' : track_id,\n",
    "                            'track_name' : track_name,\n",
    "                            'duration_ms' : duration_ms})\n",
    "        \n",
    "        \n",
    "    df_list_track_album2 = pd.concat([df_track_album, df_track])\n",
    "    \n",
    "    # on retourne le df créé\n",
    "    return df_list_track_album2"
   ]
  },
  {
   "cell_type": "code",
   "execution_count": null,
   "metadata": {},
   "outputs": [],
   "source": [
    "# utilisation de la fonction via une boucle et un message pour nous indiquer l'action en cours. \n",
    "df = pd.DataFrame()\n",
    "for ele in range (len(liste_album_par_vingt)):\n",
    "    df = pd.concat([df,search_track_album(liste_album_par_vingt[ele])])\n",
    "    print(f\"Liste n°{ele} de vingt albums récupérée sur {len(liste_album_par_vingt)} listes demandées\")"
   ]
  },
  {
   "cell_type": "code",
   "execution_count": null,
   "metadata": {},
   "outputs": [],
   "source": [
    "# on conserve le résultat en fichier CSV (Attention certaines colonnes sont en liste, et donc seront transformées en string) Il faudra y penser pour l'utilisation\n",
    "df.to_csv('liste_album_track_0-1754.csv', index=False)"
   ]
  }
 ],
 "metadata": {
  "kernelspec": {
   "display_name": "Python 3",
   "language": "python",
   "name": "python3"
  },
  "language_info": {
   "codemirror_mode": {
    "name": "ipython",
    "version": 3
   },
   "file_extension": ".py",
   "mimetype": "text/x-python",
   "name": "python",
   "nbconvert_exporter": "python",
   "pygments_lexer": "ipython3",
   "version": "3.11.9"
  }
 },
 "nbformat": 4,
 "nbformat_minor": 2
}
