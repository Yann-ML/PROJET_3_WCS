{
 "cells": [
  {
   "cell_type": "markdown",
   "metadata": {},
   "source": [
    "# Gestion des données pour notre système d'analyse de musique"
   ]
  },
  {
   "cell_type": "code",
   "execution_count": 110,
   "metadata": {},
   "outputs": [
    {
     "name": "stderr",
     "output_type": "stream",
     "text": [
      "C:\\Users\\queru\\AppData\\Local\\Temp\\ipykernel_7500\\97946622.py:7: DtypeWarning: Columns (6) have mixed types. Specify dtype option on import or set low_memory=False.\n",
      "  infos_track = pd.read_csv(\"liste_album_track_0-1754.csv\")\n"
     ]
    }
   ],
   "source": [
    "# récupération des différents CSV\n",
    "\n",
    "import pandas as pd \n",
    "\n",
    "liste_artist = pd.read_csv(\"df_list_artist_0-1754.csv\")\n",
    "infos_artist = pd.read_csv(\"info_artist_0-1754.csv\")\n",
    "infos_track = pd.read_csv(\"liste_album_track_0-1754.csv\")\n",
    "infos_album = pd.read_csv(\"liste_albums_artistes_0-1754.csv\")\n",
    "\n"
   ]
  },
  {
   "cell_type": "code",
   "execution_count": 111,
   "metadata": {},
   "outputs": [
    {
     "data": {
      "text/html": [
       "<div>\n",
       "<style scoped>\n",
       "    .dataframe tbody tr th:only-of-type {\n",
       "        vertical-align: middle;\n",
       "    }\n",
       "\n",
       "    .dataframe tbody tr th {\n",
       "        vertical-align: top;\n",
       "    }\n",
       "\n",
       "    .dataframe thead th {\n",
       "        text-align: right;\n",
       "    }\n",
       "</style>\n",
       "<table border=\"1\" class=\"dataframe\">\n",
       "  <thead>\n",
       "    <tr style=\"text-align: right;\">\n",
       "      <th></th>\n",
       "      <th>artist_name</th>\n",
       "      <th>artist_id</th>\n",
       "    </tr>\n",
       "  </thead>\n",
       "  <tbody>\n",
       "    <tr>\n",
       "      <th>13752</th>\n",
       "      <td>Godwin</td>\n",
       "      <td>2mzRsCFnmBdMKFgSCVqE3Y</td>\n",
       "    </tr>\n",
       "    <tr>\n",
       "      <th>13753</th>\n",
       "      <td>The Dark Horror</td>\n",
       "      <td>3e7LfI39pUL22PeGn1mlFa</td>\n",
       "    </tr>\n",
       "  </tbody>\n",
       "</table>\n",
       "</div>"
      ],
      "text/plain": [
       "           artist_name               artist_id\n",
       "13752           Godwin  2mzRsCFnmBdMKFgSCVqE3Y\n",
       "13753  The Dark Horror  3e7LfI39pUL22PeGn1mlFa"
      ]
     },
     "metadata": {},
     "output_type": "display_data"
    },
    {
     "data": {
      "text/html": [
       "<div>\n",
       "<style scoped>\n",
       "    .dataframe tbody tr th:only-of-type {\n",
       "        vertical-align: middle;\n",
       "    }\n",
       "\n",
       "    .dataframe tbody tr th {\n",
       "        vertical-align: top;\n",
       "    }\n",
       "\n",
       "    .dataframe thead th {\n",
       "        text-align: right;\n",
       "    }\n",
       "</style>\n",
       "<table border=\"1\" class=\"dataframe\">\n",
       "  <thead>\n",
       "    <tr style=\"text-align: right;\">\n",
       "      <th></th>\n",
       "      <th>artist_name</th>\n",
       "      <th>artist_id</th>\n",
       "      <th>popularity</th>\n",
       "      <th>artist_followers</th>\n",
       "      <th>genres</th>\n",
       "      <th>image</th>\n",
       "    </tr>\n",
       "  </thead>\n",
       "  <tbody>\n",
       "    <tr>\n",
       "      <th>1752</th>\n",
       "      <td>Sarah Cunningham</td>\n",
       "      <td>78qL3Rn9v8FjkBn7rdmjQW</td>\n",
       "      <td>24</td>\n",
       "      <td>514</td>\n",
       "      <td>[]</td>\n",
       "      <td>https://i.scdn.co/image/ab67616d0000b273ed9c58277e846b67549c5d66</td>\n",
       "    </tr>\n",
       "    <tr>\n",
       "      <th>1753</th>\n",
       "      <td>Ottmar Liebert</td>\n",
       "      <td>1AhYnfs5mzb3ennyLFXlYD</td>\n",
       "      <td>42</td>\n",
       "      <td>76248</td>\n",
       "      <td>['flamenco', 'new age']</td>\n",
       "      <td>https://i.scdn.co/image/79f595ea0b3ca026a7fd2edd149d6f9bc169644a</td>\n",
       "    </tr>\n",
       "  </tbody>\n",
       "</table>\n",
       "</div>"
      ],
      "text/plain": [
       "           artist_name               artist_id  popularity  artist_followers  \\\n",
       "1752  Sarah Cunningham  78qL3Rn9v8FjkBn7rdmjQW          24               514   \n",
       "1753    Ottmar Liebert  1AhYnfs5mzb3ennyLFXlYD          42             76248   \n",
       "\n",
       "                       genres  \\\n",
       "1752                       []   \n",
       "1753  ['flamenco', 'new age']   \n",
       "\n",
       "                                                                 image  \n",
       "1752  https://i.scdn.co/image/ab67616d0000b273ed9c58277e846b67549c5d66  \n",
       "1753  https://i.scdn.co/image/79f595ea0b3ca026a7fd2edd149d6f9bc169644a  "
      ]
     },
     "metadata": {},
     "output_type": "display_data"
    },
    {
     "data": {
      "text/html": [
       "<div>\n",
       "<style scoped>\n",
       "    .dataframe tbody tr th:only-of-type {\n",
       "        vertical-align: middle;\n",
       "    }\n",
       "\n",
       "    .dataframe tbody tr th {\n",
       "        vertical-align: top;\n",
       "    }\n",
       "\n",
       "    .dataframe thead th {\n",
       "        text-align: right;\n",
       "    }\n",
       "</style>\n",
       "<table border=\"1\" class=\"dataframe\">\n",
       "  <thead>\n",
       "    <tr style=\"text-align: right;\">\n",
       "      <th></th>\n",
       "      <th>artist_id</th>\n",
       "      <th>album_name</th>\n",
       "      <th>album_id</th>\n",
       "      <th>release_date</th>\n",
       "      <th>total_tracks</th>\n",
       "      <th>url_image</th>\n",
       "    </tr>\n",
       "  </thead>\n",
       "  <tbody>\n",
       "    <tr>\n",
       "      <th>18126</th>\n",
       "      <td>1AhYnfs5mzb3ennyLFXlYD</td>\n",
       "      <td>The Hours Between Night + Day</td>\n",
       "      <td>7KCJbVOoD4S0xIm4p4WaMv</td>\n",
       "      <td>1993-07-20</td>\n",
       "      <td>19</td>\n",
       "      <td>https://i.scdn.co/image/ab67616d0000b273d445940069a76e81ca7db250</td>\n",
       "    </tr>\n",
       "    <tr>\n",
       "      <th>18127</th>\n",
       "      <td>1AhYnfs5mzb3ennyLFXlYD</td>\n",
       "      <td>Borrasca</td>\n",
       "      <td>69dd5s9JyQYrcNH4nbG8A8</td>\n",
       "      <td>1991-01-01</td>\n",
       "      <td>15</td>\n",
       "      <td>https://i.scdn.co/image/ab67616d0000b27327f261ebcc5bf39fb6abffaa</td>\n",
       "    </tr>\n",
       "  </tbody>\n",
       "</table>\n",
       "</div>"
      ],
      "text/plain": [
       "                    artist_id                     album_name  \\\n",
       "18126  1AhYnfs5mzb3ennyLFXlYD  The Hours Between Night + Day   \n",
       "18127  1AhYnfs5mzb3ennyLFXlYD                       Borrasca   \n",
       "\n",
       "                     album_id release_date  total_tracks  \\\n",
       "18126  7KCJbVOoD4S0xIm4p4WaMv   1993-07-20            19   \n",
       "18127  69dd5s9JyQYrcNH4nbG8A8   1991-01-01            15   \n",
       "\n",
       "                                                              url_image  \n",
       "18126  https://i.scdn.co/image/ab67616d0000b273d445940069a76e81ca7db250  \n",
       "18127  https://i.scdn.co/image/ab67616d0000b27327f261ebcc5bf39fb6abffaa  "
      ]
     },
     "metadata": {},
     "output_type": "display_data"
    },
    {
     "data": {
      "text/html": [
       "<div>\n",
       "<style scoped>\n",
       "    .dataframe tbody tr th:only-of-type {\n",
       "        vertical-align: middle;\n",
       "    }\n",
       "\n",
       "    .dataframe tbody tr th {\n",
       "        vertical-align: top;\n",
       "    }\n",
       "\n",
       "    .dataframe thead th {\n",
       "        text-align: right;\n",
       "    }\n",
       "</style>\n",
       "<table border=\"1\" class=\"dataframe\">\n",
       "  <thead>\n",
       "    <tr style=\"text-align: right;\">\n",
       "      <th></th>\n",
       "      <th>album_name</th>\n",
       "      <th>album_id</th>\n",
       "      <th>album_type</th>\n",
       "      <th>total_tracks</th>\n",
       "      <th>release_date</th>\n",
       "      <th>release_date_precision</th>\n",
       "      <th>upc</th>\n",
       "      <th>label</th>\n",
       "      <th>popularity</th>\n",
       "      <th>images</th>\n",
       "      <th>disc_number</th>\n",
       "      <th>track_number</th>\n",
       "      <th>track_id</th>\n",
       "      <th>track_name</th>\n",
       "      <th>duration_ms</th>\n",
       "    </tr>\n",
       "  </thead>\n",
       "  <tbody>\n",
       "    <tr>\n",
       "      <th>262834</th>\n",
       "      <td>Borrasca</td>\n",
       "      <td>69dd5s9JyQYrcNH4nbG8A8</td>\n",
       "      <td>album</td>\n",
       "      <td>15</td>\n",
       "      <td>1991-01-01</td>\n",
       "      <td>day</td>\n",
       "      <td>724387752955</td>\n",
       "      <td>Higher Octave</td>\n",
       "      <td>32</td>\n",
       "      <td>https://i.scdn.co/image/ab67616d0000b27327f261ebcc5bf39fb6abffaa</td>\n",
       "      <td>1</td>\n",
       "      <td>14</td>\n",
       "      <td>5re0XNJhWf2BbC0igr1yCt</td>\n",
       "      <td>1st Rain/Cry Of Faith</td>\n",
       "      <td>272626</td>\n",
       "    </tr>\n",
       "    <tr>\n",
       "      <th>262835</th>\n",
       "      <td>Borrasca</td>\n",
       "      <td>69dd5s9JyQYrcNH4nbG8A8</td>\n",
       "      <td>album</td>\n",
       "      <td>15</td>\n",
       "      <td>1991-01-01</td>\n",
       "      <td>day</td>\n",
       "      <td>724387752955</td>\n",
       "      <td>Higher Octave</td>\n",
       "      <td>32</td>\n",
       "      <td>https://i.scdn.co/image/ab67616d0000b27327f261ebcc5bf39fb6abffaa</td>\n",
       "      <td>1</td>\n",
       "      <td>15</td>\n",
       "      <td>5964zPjCuJDwL2BpFDISE7</td>\n",
       "      <td>Bajo La Luna Mix</td>\n",
       "      <td>379866</td>\n",
       "    </tr>\n",
       "  </tbody>\n",
       "</table>\n",
       "</div>"
      ],
      "text/plain": [
       "       album_name                album_id album_type  total_tracks  \\\n",
       "262834   Borrasca  69dd5s9JyQYrcNH4nbG8A8      album            15   \n",
       "262835   Borrasca  69dd5s9JyQYrcNH4nbG8A8      album            15   \n",
       "\n",
       "       release_date release_date_precision           upc          label  \\\n",
       "262834   1991-01-01                    day  724387752955  Higher Octave   \n",
       "262835   1991-01-01                    day  724387752955  Higher Octave   \n",
       "\n",
       "        popularity  \\\n",
       "262834          32   \n",
       "262835          32   \n",
       "\n",
       "                                                                  images  \\\n",
       "262834  https://i.scdn.co/image/ab67616d0000b27327f261ebcc5bf39fb6abffaa   \n",
       "262835  https://i.scdn.co/image/ab67616d0000b27327f261ebcc5bf39fb6abffaa   \n",
       "\n",
       "        disc_number  track_number                track_id  \\\n",
       "262834            1            14  5re0XNJhWf2BbC0igr1yCt   \n",
       "262835            1            15  5964zPjCuJDwL2BpFDISE7   \n",
       "\n",
       "                   track_name  duration_ms  \n",
       "262834  1st Rain/Cry Of Faith       272626  \n",
       "262835       Bajo La Luna Mix       379866  "
      ]
     },
     "metadata": {},
     "output_type": "display_data"
    }
   ],
   "source": [
    "# test des informations\n",
    "display(\n",
    "    liste_artist.tail(2),\n",
    "    infos_artist.tail(2),\n",
    "    infos_album.tail(2),\n",
    "    infos_track.tail(2)\n",
    ")"
   ]
  },
  {
   "cell_type": "code",
   "execution_count": 115,
   "metadata": {},
   "outputs": [],
   "source": [
    "# merge de 3 csv pour faire une table unique d'informations. Nous avons besoin de renommer la colonne popularity des artistes puisqu'elle porte le même nom que celle des albums\n",
    "infos_artist.rename(columns={'popularity' : 'popularity_artist'}, inplace=True)\n",
    "merge_temporaire = pd.merge(left =infos_track,right =infos_album)\n",
    "df_spotify_1754 = pd.merge(left = merge_temporaire, right=infos_artist)\n",
    "\n",
    "# on supprime une colonne en doublon mais aussi UPC qui pose des problèmes\n",
    "df_spotify_1754.drop(columns=['images','upc'], inplace=True)\n",
    "\n",
    "# on renomme quelques colonnes pour plus de compréhension\n",
    "df_spotify_1754.rename(columns={\"popularity\":\"popularity_album\", \"url_image\" : \"url_image_album\",\"genres\" : \"genres_artist\", \"image\" : \"image_artist\"}, inplace=True)"
   ]
  },
  {
   "cell_type": "code",
   "execution_count": 116,
   "metadata": {},
   "outputs": [],
   "source": [
    "# on exporte ce nouveau CSV que l'on passe en zip pour lui permettre de passer le stockage git\n",
    "df_spotify_1754.to_csv(\"df_spotify_1754.csv\", index=False)"
   ]
  },
  {
   "cell_type": "code",
   "execution_count": 141,
   "metadata": {},
   "outputs": [],
   "source": [
    "import pandas as pd \n",
    "test = pd.read_csv('df_spotify_1754.csv')"
   ]
  },
  {
   "cell_type": "code",
   "execution_count": 142,
   "metadata": {},
   "outputs": [
    {
     "data": {
      "application/vnd.plotly.v1+json": {
       "config": {
        "plotlyServerURL": "https://plot.ly"
       },
       "data": [
        {
         "alignmentgroup": "True",
         "hovertemplate": "<b>%{hovertext}</b><br><br>album_name=%{x}<br>count=%{y}<extra></extra>",
         "hovertext": [
          "Where Are You?",
          "(Ina) Gadda-Da-Vida (feat. Eddie Hind)",
          "Be Quiet",
          "Mac's Flight",
          "Too Fast to Live",
          "Raindance (feat. Eddie Hind)",
          "Changing Minds",
          "1 X 1 = Won",
          "Desire (feat. Eddie Hind)",
          "132 Beats \"xycvgtgb\"",
          "Paris bei Nacht",
          "(Ina) Gadda-Da-Vida (feat. Eddie Hind) - Club Mix",
          "Death of a Chip - Der Mix",
          "Raindance (feat. Eddie Hind) - Waltz Mix",
          "Be Quiet - Lazer Edit"
         ],
         "legendgroup": "",
         "marker": {
          "color": "#636efa",
          "pattern": {
           "shape": ""
          }
         },
         "name": "",
         "offsetgroup": "",
         "orientation": "v",
         "showlegend": false,
         "textposition": "auto",
         "type": "bar",
         "x": [
          "Inaxycvgtgb",
          "Inaxycvgtgb",
          "Inaxycvgtgb",
          "Inaxycvgtgb",
          "Inaxycvgtgb",
          "Inaxycvgtgb",
          "Inaxycvgtgb",
          "Inaxycvgtgb",
          "Inaxycvgtgb",
          "Inaxycvgtgb",
          "Inaxycvgtgb",
          "Inaxycvgtgb",
          "Inaxycvgtgb",
          "Inaxycvgtgb",
          "Inaxycvgtgb"
         ],
         "xaxis": "x",
         "y": [
          1,
          1,
          1,
          1,
          1,
          1,
          1,
          1,
          1,
          1,
          1,
          1,
          1,
          1,
          1
         ],
         "yaxis": "y"
        }
       ],
       "layout": {
        "barmode": "relative",
        "legend": {
         "tracegroupgap": 0
        },
        "margin": {
         "t": 60
        },
        "template": {
         "data": {
          "bar": [
           {
            "error_x": {
             "color": "#2a3f5f"
            },
            "error_y": {
             "color": "#2a3f5f"
            },
            "marker": {
             "line": {
              "color": "#E5ECF6",
              "width": 0.5
             },
             "pattern": {
              "fillmode": "overlay",
              "size": 10,
              "solidity": 0.2
             }
            },
            "type": "bar"
           }
          ],
          "barpolar": [
           {
            "marker": {
             "line": {
              "color": "#E5ECF6",
              "width": 0.5
             },
             "pattern": {
              "fillmode": "overlay",
              "size": 10,
              "solidity": 0.2
             }
            },
            "type": "barpolar"
           }
          ],
          "carpet": [
           {
            "aaxis": {
             "endlinecolor": "#2a3f5f",
             "gridcolor": "white",
             "linecolor": "white",
             "minorgridcolor": "white",
             "startlinecolor": "#2a3f5f"
            },
            "baxis": {
             "endlinecolor": "#2a3f5f",
             "gridcolor": "white",
             "linecolor": "white",
             "minorgridcolor": "white",
             "startlinecolor": "#2a3f5f"
            },
            "type": "carpet"
           }
          ],
          "choropleth": [
           {
            "colorbar": {
             "outlinewidth": 0,
             "ticks": ""
            },
            "type": "choropleth"
           }
          ],
          "contour": [
           {
            "colorbar": {
             "outlinewidth": 0,
             "ticks": ""
            },
            "colorscale": [
             [
              0,
              "#0d0887"
             ],
             [
              0.1111111111111111,
              "#46039f"
             ],
             [
              0.2222222222222222,
              "#7201a8"
             ],
             [
              0.3333333333333333,
              "#9c179e"
             ],
             [
              0.4444444444444444,
              "#bd3786"
             ],
             [
              0.5555555555555556,
              "#d8576b"
             ],
             [
              0.6666666666666666,
              "#ed7953"
             ],
             [
              0.7777777777777778,
              "#fb9f3a"
             ],
             [
              0.8888888888888888,
              "#fdca26"
             ],
             [
              1,
              "#f0f921"
             ]
            ],
            "type": "contour"
           }
          ],
          "contourcarpet": [
           {
            "colorbar": {
             "outlinewidth": 0,
             "ticks": ""
            },
            "type": "contourcarpet"
           }
          ],
          "heatmap": [
           {
            "colorbar": {
             "outlinewidth": 0,
             "ticks": ""
            },
            "colorscale": [
             [
              0,
              "#0d0887"
             ],
             [
              0.1111111111111111,
              "#46039f"
             ],
             [
              0.2222222222222222,
              "#7201a8"
             ],
             [
              0.3333333333333333,
              "#9c179e"
             ],
             [
              0.4444444444444444,
              "#bd3786"
             ],
             [
              0.5555555555555556,
              "#d8576b"
             ],
             [
              0.6666666666666666,
              "#ed7953"
             ],
             [
              0.7777777777777778,
              "#fb9f3a"
             ],
             [
              0.8888888888888888,
              "#fdca26"
             ],
             [
              1,
              "#f0f921"
             ]
            ],
            "type": "heatmap"
           }
          ],
          "heatmapgl": [
           {
            "colorbar": {
             "outlinewidth": 0,
             "ticks": ""
            },
            "colorscale": [
             [
              0,
              "#0d0887"
             ],
             [
              0.1111111111111111,
              "#46039f"
             ],
             [
              0.2222222222222222,
              "#7201a8"
             ],
             [
              0.3333333333333333,
              "#9c179e"
             ],
             [
              0.4444444444444444,
              "#bd3786"
             ],
             [
              0.5555555555555556,
              "#d8576b"
             ],
             [
              0.6666666666666666,
              "#ed7953"
             ],
             [
              0.7777777777777778,
              "#fb9f3a"
             ],
             [
              0.8888888888888888,
              "#fdca26"
             ],
             [
              1,
              "#f0f921"
             ]
            ],
            "type": "heatmapgl"
           }
          ],
          "histogram": [
           {
            "marker": {
             "pattern": {
              "fillmode": "overlay",
              "size": 10,
              "solidity": 0.2
             }
            },
            "type": "histogram"
           }
          ],
          "histogram2d": [
           {
            "colorbar": {
             "outlinewidth": 0,
             "ticks": ""
            },
            "colorscale": [
             [
              0,
              "#0d0887"
             ],
             [
              0.1111111111111111,
              "#46039f"
             ],
             [
              0.2222222222222222,
              "#7201a8"
             ],
             [
              0.3333333333333333,
              "#9c179e"
             ],
             [
              0.4444444444444444,
              "#bd3786"
             ],
             [
              0.5555555555555556,
              "#d8576b"
             ],
             [
              0.6666666666666666,
              "#ed7953"
             ],
             [
              0.7777777777777778,
              "#fb9f3a"
             ],
             [
              0.8888888888888888,
              "#fdca26"
             ],
             [
              1,
              "#f0f921"
             ]
            ],
            "type": "histogram2d"
           }
          ],
          "histogram2dcontour": [
           {
            "colorbar": {
             "outlinewidth": 0,
             "ticks": ""
            },
            "colorscale": [
             [
              0,
              "#0d0887"
             ],
             [
              0.1111111111111111,
              "#46039f"
             ],
             [
              0.2222222222222222,
              "#7201a8"
             ],
             [
              0.3333333333333333,
              "#9c179e"
             ],
             [
              0.4444444444444444,
              "#bd3786"
             ],
             [
              0.5555555555555556,
              "#d8576b"
             ],
             [
              0.6666666666666666,
              "#ed7953"
             ],
             [
              0.7777777777777778,
              "#fb9f3a"
             ],
             [
              0.8888888888888888,
              "#fdca26"
             ],
             [
              1,
              "#f0f921"
             ]
            ],
            "type": "histogram2dcontour"
           }
          ],
          "mesh3d": [
           {
            "colorbar": {
             "outlinewidth": 0,
             "ticks": ""
            },
            "type": "mesh3d"
           }
          ],
          "parcoords": [
           {
            "line": {
             "colorbar": {
              "outlinewidth": 0,
              "ticks": ""
             }
            },
            "type": "parcoords"
           }
          ],
          "pie": [
           {
            "automargin": true,
            "type": "pie"
           }
          ],
          "scatter": [
           {
            "fillpattern": {
             "fillmode": "overlay",
             "size": 10,
             "solidity": 0.2
            },
            "type": "scatter"
           }
          ],
          "scatter3d": [
           {
            "line": {
             "colorbar": {
              "outlinewidth": 0,
              "ticks": ""
             }
            },
            "marker": {
             "colorbar": {
              "outlinewidth": 0,
              "ticks": ""
             }
            },
            "type": "scatter3d"
           }
          ],
          "scattercarpet": [
           {
            "marker": {
             "colorbar": {
              "outlinewidth": 0,
              "ticks": ""
             }
            },
            "type": "scattercarpet"
           }
          ],
          "scattergeo": [
           {
            "marker": {
             "colorbar": {
              "outlinewidth": 0,
              "ticks": ""
             }
            },
            "type": "scattergeo"
           }
          ],
          "scattergl": [
           {
            "marker": {
             "colorbar": {
              "outlinewidth": 0,
              "ticks": ""
             }
            },
            "type": "scattergl"
           }
          ],
          "scattermapbox": [
           {
            "marker": {
             "colorbar": {
              "outlinewidth": 0,
              "ticks": ""
             }
            },
            "type": "scattermapbox"
           }
          ],
          "scatterpolar": [
           {
            "marker": {
             "colorbar": {
              "outlinewidth": 0,
              "ticks": ""
             }
            },
            "type": "scatterpolar"
           }
          ],
          "scatterpolargl": [
           {
            "marker": {
             "colorbar": {
              "outlinewidth": 0,
              "ticks": ""
             }
            },
            "type": "scatterpolargl"
           }
          ],
          "scatterternary": [
           {
            "marker": {
             "colorbar": {
              "outlinewidth": 0,
              "ticks": ""
             }
            },
            "type": "scatterternary"
           }
          ],
          "surface": [
           {
            "colorbar": {
             "outlinewidth": 0,
             "ticks": ""
            },
            "colorscale": [
             [
              0,
              "#0d0887"
             ],
             [
              0.1111111111111111,
              "#46039f"
             ],
             [
              0.2222222222222222,
              "#7201a8"
             ],
             [
              0.3333333333333333,
              "#9c179e"
             ],
             [
              0.4444444444444444,
              "#bd3786"
             ],
             [
              0.5555555555555556,
              "#d8576b"
             ],
             [
              0.6666666666666666,
              "#ed7953"
             ],
             [
              0.7777777777777778,
              "#fb9f3a"
             ],
             [
              0.8888888888888888,
              "#fdca26"
             ],
             [
              1,
              "#f0f921"
             ]
            ],
            "type": "surface"
           }
          ],
          "table": [
           {
            "cells": {
             "fill": {
              "color": "#EBF0F8"
             },
             "line": {
              "color": "white"
             }
            },
            "header": {
             "fill": {
              "color": "#C8D4E3"
             },
             "line": {
              "color": "white"
             }
            },
            "type": "table"
           }
          ]
         },
         "layout": {
          "annotationdefaults": {
           "arrowcolor": "#2a3f5f",
           "arrowhead": 0,
           "arrowwidth": 1
          },
          "autotypenumbers": "strict",
          "coloraxis": {
           "colorbar": {
            "outlinewidth": 0,
            "ticks": ""
           }
          },
          "colorscale": {
           "diverging": [
            [
             0,
             "#8e0152"
            ],
            [
             0.1,
             "#c51b7d"
            ],
            [
             0.2,
             "#de77ae"
            ],
            [
             0.3,
             "#f1b6da"
            ],
            [
             0.4,
             "#fde0ef"
            ],
            [
             0.5,
             "#f7f7f7"
            ],
            [
             0.6,
             "#e6f5d0"
            ],
            [
             0.7,
             "#b8e186"
            ],
            [
             0.8,
             "#7fbc41"
            ],
            [
             0.9,
             "#4d9221"
            ],
            [
             1,
             "#276419"
            ]
           ],
           "sequential": [
            [
             0,
             "#0d0887"
            ],
            [
             0.1111111111111111,
             "#46039f"
            ],
            [
             0.2222222222222222,
             "#7201a8"
            ],
            [
             0.3333333333333333,
             "#9c179e"
            ],
            [
             0.4444444444444444,
             "#bd3786"
            ],
            [
             0.5555555555555556,
             "#d8576b"
            ],
            [
             0.6666666666666666,
             "#ed7953"
            ],
            [
             0.7777777777777778,
             "#fb9f3a"
            ],
            [
             0.8888888888888888,
             "#fdca26"
            ],
            [
             1,
             "#f0f921"
            ]
           ],
           "sequentialminus": [
            [
             0,
             "#0d0887"
            ],
            [
             0.1111111111111111,
             "#46039f"
            ],
            [
             0.2222222222222222,
             "#7201a8"
            ],
            [
             0.3333333333333333,
             "#9c179e"
            ],
            [
             0.4444444444444444,
             "#bd3786"
            ],
            [
             0.5555555555555556,
             "#d8576b"
            ],
            [
             0.6666666666666666,
             "#ed7953"
            ],
            [
             0.7777777777777778,
             "#fb9f3a"
            ],
            [
             0.8888888888888888,
             "#fdca26"
            ],
            [
             1,
             "#f0f921"
            ]
           ]
          },
          "colorway": [
           "#636efa",
           "#EF553B",
           "#00cc96",
           "#ab63fa",
           "#FFA15A",
           "#19d3f3",
           "#FF6692",
           "#B6E880",
           "#FF97FF",
           "#FECB52"
          ],
          "font": {
           "color": "#2a3f5f"
          },
          "geo": {
           "bgcolor": "white",
           "lakecolor": "white",
           "landcolor": "#E5ECF6",
           "showlakes": true,
           "showland": true,
           "subunitcolor": "white"
          },
          "hoverlabel": {
           "align": "left"
          },
          "hovermode": "closest",
          "mapbox": {
           "style": "light"
          },
          "paper_bgcolor": "white",
          "plot_bgcolor": "#E5ECF6",
          "polar": {
           "angularaxis": {
            "gridcolor": "white",
            "linecolor": "white",
            "ticks": ""
           },
           "bgcolor": "#E5ECF6",
           "radialaxis": {
            "gridcolor": "white",
            "linecolor": "white",
            "ticks": ""
           }
          },
          "scene": {
           "xaxis": {
            "backgroundcolor": "#E5ECF6",
            "gridcolor": "white",
            "gridwidth": 2,
            "linecolor": "white",
            "showbackground": true,
            "ticks": "",
            "zerolinecolor": "white"
           },
           "yaxis": {
            "backgroundcolor": "#E5ECF6",
            "gridcolor": "white",
            "gridwidth": 2,
            "linecolor": "white",
            "showbackground": true,
            "ticks": "",
            "zerolinecolor": "white"
           },
           "zaxis": {
            "backgroundcolor": "#E5ECF6",
            "gridcolor": "white",
            "gridwidth": 2,
            "linecolor": "white",
            "showbackground": true,
            "ticks": "",
            "zerolinecolor": "white"
           }
          },
          "shapedefaults": {
           "line": {
            "color": "#2a3f5f"
           }
          },
          "ternary": {
           "aaxis": {
            "gridcolor": "white",
            "linecolor": "white",
            "ticks": ""
           },
           "baxis": {
            "gridcolor": "white",
            "linecolor": "white",
            "ticks": ""
           },
           "bgcolor": "#E5ECF6",
           "caxis": {
            "gridcolor": "white",
            "linecolor": "white",
            "ticks": ""
           }
          },
          "title": {
           "x": 0.05
          },
          "xaxis": {
           "automargin": true,
           "gridcolor": "white",
           "linecolor": "white",
           "ticks": "",
           "title": {
            "standoff": 15
           },
           "zerolinecolor": "white",
           "zerolinewidth": 2
          },
          "yaxis": {
           "automargin": true,
           "gridcolor": "white",
           "linecolor": "white",
           "ticks": "",
           "title": {
            "standoff": 15
           },
           "zerolinecolor": "white",
           "zerolinewidth": 2
          }
         }
        },
        "xaxis": {
         "anchor": "y",
         "domain": [
          0,
          1
         ],
         "title": {
          "text": "album_name"
         }
        },
        "yaxis": {
         "anchor": "x",
         "domain": [
          0,
          1
         ],
         "title": {
          "text": "count"
         }
        }
       }
      }
     },
     "metadata": {},
     "output_type": "display_data"
    }
   ],
   "source": [
    "import plotly_express as px\n",
    "fig = px.bar(data_frame=test[['album_name', 'artist_name', 'total_tracks','track_name']][test['artist_name'] == '16 Bit'],\n",
    "       x='album_name',\n",
    "       hover_name='track_name'\n",
    "       )\n",
    "fig.show()"
   ]
  }
 ],
 "metadata": {
  "kernelspec": {
   "display_name": "Python 3",
   "language": "python",
   "name": "python3"
  },
  "language_info": {
   "codemirror_mode": {
    "name": "ipython",
    "version": 3
   },
   "file_extension": ".py",
   "mimetype": "text/x-python",
   "name": "python",
   "nbconvert_exporter": "python",
   "pygments_lexer": "ipython3",
   "version": "3.11.9"
  }
 },
 "nbformat": 4,
 "nbformat_minor": 2
}
