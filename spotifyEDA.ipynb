{
 "cells": [
  {
   "cell_type": "code",
   "execution_count": 2,
   "metadata": {},
   "outputs": [],
   "source": [
    "import pandas as pd"
   ]
  },
  {
   "cell_type": "code",
   "execution_count": 3,
   "metadata": {},
   "outputs": [],
   "source": [
    "df = pd.read_csv('df_album_list_0-12500.csv')"
   ]
  },
  {
   "cell_type": "code",
   "execution_count": 6,
   "metadata": {},
   "outputs": [
    {
     "data": {
      "application/vnd.microsoft.datawrangler.viewer.v0+json": {
       "columns": [
        {
         "name": "index",
         "rawType": "int64",
         "type": "integer"
        },
        {
         "name": "Unnamed: 0",
         "rawType": "int64",
         "type": "integer"
        },
        {
         "name": "artist_id",
         "rawType": "object",
         "type": "string"
        },
        {
         "name": "album_name",
         "rawType": "object",
         "type": "string"
        },
        {
         "name": "album_id",
         "rawType": "object",
         "type": "string"
        },
        {
         "name": "release_date",
         "rawType": "object",
         "type": "string"
        },
        {
         "name": "total_tracks",
         "rawType": "int64",
         "type": "integer"
        },
        {
         "name": "url_image",
         "rawType": "object",
         "type": "string"
        }
       ],
       "conversionMethod": "pd.DataFrame",
       "ref": "cb2ea878-7228-4d8d-8194-8512d88e552d",
       "rows": [
        [
         "33457",
         "33457",
         "1dblvToZwI83HRiOOtCZxB",
         "Twelve Gates to the City",
         "7J7WcEWoOgdkW8eSMNUhWY",
         "1955-01-01",
         "12",
         "https://i.scdn.co/image/ab67616d0000b2733418df41ad74c28a745e99fe"
        ],
        [
         "89433",
         "25466",
         "7iZC2I6gz8gI0BLe2boBZR",
         "Amore Amicizia",
         "4YyUYx5NeNKVnTeKXYZtJ8",
         "2002-03-23",
         "14",
         "https://i.scdn.co/image/ab67616d0000b273ac49cd7a8c237d479004c644"
        ],
        [
         "11772",
         "11772",
         "11D6C5Ja7OtXDZ5tKlQDqn",
         "Nyugati pályaudvar",
         "1bAwvoqO1lXm7jRpZgRsTs",
         "1939-07-01",
         "6",
         "https://i.scdn.co/image/ab67616d0000b273488c6d338d75279c693bdddc"
        ],
        [
         "12942",
         "12942",
         "4ZdfXQkef0hnTSqmhpGarA",
         "Two Cigaretts in the Dark (Authentic Recordings London 1934)",
         "0rWG0vZk0EHhXMvUwmhjfP",
         "2014-01-01",
         "11",
         "https://i.scdn.co/image/ab67616d0000b2733fe621f19c0bdc5b965cf1e2"
        ],
        [
         "743",
         "743",
         "5LgxRR1wszAksg7xmtNTXC",
         "Commiefornia",
         "3oGRwiRvOHa3LOPmXgeLuL",
         "2022-06-13",
         "10",
         "https://i.scdn.co/image/ab67616d0000b2739aba6d08c8f38082c911e213"
        ],
        [
         "90370",
         "26403",
         "3LOaK3KF7jOJRsZ8J3aMSl",
         "Blessures d'enfance",
         "1nu79hFp1vTUMyNwuqgoQi",
         "1990",
         "10",
         "https://i.scdn.co/image/ab67616d0000b2736f62b6e57190d67eefbfc517"
        ],
        [
         "55967",
         "55967",
         "0TF2NxkJZPQoX1H53rEFM1",
         "Visions (Expanded Edition)",
         "7tcWk8cEeldaK1l1durZ6Z",
         "1983",
         "33",
         "https://i.scdn.co/image/ab67616d0000b273fafa88bace751161fb164f11"
        ],
        [
         "6596",
         "6596",
         "40AlBZ419hHc7DmwqAYeC0",
         "Concha Piquer, La Reina de la Copla, Vol. II",
         "7pvbbncqyGjhJdYnGvwwc0",
         "2015-09-27",
         "25",
         "https://i.scdn.co/image/ab67616d0000b273fb0f88d6f1a04f590857694a"
        ],
        [
         "28791",
         "28791",
         "3XShVLTDpWu204yzylK0yy",
         "Lord Berners: Le carosse du Saint-Sacrement",
         "69lBd1b0mO8rGGKWQmPPGt",
         "2022-04-08",
         "9",
         "https://i.scdn.co/image/ab67616d0000b273b46dcb1862429862cc2a6afb"
        ],
        [
         "16582",
         "16582",
         "4Kgu9tJgtNXTWMjefKahs9",
         "Mermania!, Vol. 2",
         "0M4KPcHpaKrQrw02RfQzbt",
         "2015-02-01",
         "28",
         "https://i.scdn.co/image/ab67616d0000b2738ce95ab715b9240aa750bb69"
        ]
       ],
       "shape": {
        "columns": 7,
        "rows": 10
       }
      },
      "text/html": [
       "<div>\n",
       "<style scoped>\n",
       "    .dataframe tbody tr th:only-of-type {\n",
       "        vertical-align: middle;\n",
       "    }\n",
       "\n",
       "    .dataframe tbody tr th {\n",
       "        vertical-align: top;\n",
       "    }\n",
       "\n",
       "    .dataframe thead th {\n",
       "        text-align: right;\n",
       "    }\n",
       "</style>\n",
       "<table border=\"1\" class=\"dataframe\">\n",
       "  <thead>\n",
       "    <tr style=\"text-align: right;\">\n",
       "      <th></th>\n",
       "      <th>Unnamed: 0</th>\n",
       "      <th>artist_id</th>\n",
       "      <th>album_name</th>\n",
       "      <th>album_id</th>\n",
       "      <th>release_date</th>\n",
       "      <th>total_tracks</th>\n",
       "      <th>url_image</th>\n",
       "    </tr>\n",
       "  </thead>\n",
       "  <tbody>\n",
       "    <tr>\n",
       "      <th>33457</th>\n",
       "      <td>33457</td>\n",
       "      <td>1dblvToZwI83HRiOOtCZxB</td>\n",
       "      <td>Twelve Gates to the City</td>\n",
       "      <td>7J7WcEWoOgdkW8eSMNUhWY</td>\n",
       "      <td>1955-01-01</td>\n",
       "      <td>12</td>\n",
       "      <td>https://i.scdn.co/image/ab67616d0000b2733418df...</td>\n",
       "    </tr>\n",
       "    <tr>\n",
       "      <th>89433</th>\n",
       "      <td>25466</td>\n",
       "      <td>7iZC2I6gz8gI0BLe2boBZR</td>\n",
       "      <td>Amore Amicizia</td>\n",
       "      <td>4YyUYx5NeNKVnTeKXYZtJ8</td>\n",
       "      <td>2002-03-23</td>\n",
       "      <td>14</td>\n",
       "      <td>https://i.scdn.co/image/ab67616d0000b273ac49cd...</td>\n",
       "    </tr>\n",
       "    <tr>\n",
       "      <th>11772</th>\n",
       "      <td>11772</td>\n",
       "      <td>11D6C5Ja7OtXDZ5tKlQDqn</td>\n",
       "      <td>Nyugati pályaudvar</td>\n",
       "      <td>1bAwvoqO1lXm7jRpZgRsTs</td>\n",
       "      <td>1939-07-01</td>\n",
       "      <td>6</td>\n",
       "      <td>https://i.scdn.co/image/ab67616d0000b273488c6d...</td>\n",
       "    </tr>\n",
       "    <tr>\n",
       "      <th>12942</th>\n",
       "      <td>12942</td>\n",
       "      <td>4ZdfXQkef0hnTSqmhpGarA</td>\n",
       "      <td>Two Cigaretts in the Dark (Authentic Recording...</td>\n",
       "      <td>0rWG0vZk0EHhXMvUwmhjfP</td>\n",
       "      <td>2014-01-01</td>\n",
       "      <td>11</td>\n",
       "      <td>https://i.scdn.co/image/ab67616d0000b2733fe621...</td>\n",
       "    </tr>\n",
       "    <tr>\n",
       "      <th>743</th>\n",
       "      <td>743</td>\n",
       "      <td>5LgxRR1wszAksg7xmtNTXC</td>\n",
       "      <td>Commiefornia</td>\n",
       "      <td>3oGRwiRvOHa3LOPmXgeLuL</td>\n",
       "      <td>2022-06-13</td>\n",
       "      <td>10</td>\n",
       "      <td>https://i.scdn.co/image/ab67616d0000b2739aba6d...</td>\n",
       "    </tr>\n",
       "    <tr>\n",
       "      <th>90370</th>\n",
       "      <td>26403</td>\n",
       "      <td>3LOaK3KF7jOJRsZ8J3aMSl</td>\n",
       "      <td>Blessures d'enfance</td>\n",
       "      <td>1nu79hFp1vTUMyNwuqgoQi</td>\n",
       "      <td>1990</td>\n",
       "      <td>10</td>\n",
       "      <td>https://i.scdn.co/image/ab67616d0000b2736f62b6...</td>\n",
       "    </tr>\n",
       "    <tr>\n",
       "      <th>55967</th>\n",
       "      <td>55967</td>\n",
       "      <td>0TF2NxkJZPQoX1H53rEFM1</td>\n",
       "      <td>Visions (Expanded Edition)</td>\n",
       "      <td>7tcWk8cEeldaK1l1durZ6Z</td>\n",
       "      <td>1983</td>\n",
       "      <td>33</td>\n",
       "      <td>https://i.scdn.co/image/ab67616d0000b273fafa88...</td>\n",
       "    </tr>\n",
       "    <tr>\n",
       "      <th>6596</th>\n",
       "      <td>6596</td>\n",
       "      <td>40AlBZ419hHc7DmwqAYeC0</td>\n",
       "      <td>Concha Piquer, La Reina de la Copla, Vol. II</td>\n",
       "      <td>7pvbbncqyGjhJdYnGvwwc0</td>\n",
       "      <td>2015-09-27</td>\n",
       "      <td>25</td>\n",
       "      <td>https://i.scdn.co/image/ab67616d0000b273fb0f88...</td>\n",
       "    </tr>\n",
       "    <tr>\n",
       "      <th>28791</th>\n",
       "      <td>28791</td>\n",
       "      <td>3XShVLTDpWu204yzylK0yy</td>\n",
       "      <td>Lord Berners: Le carosse du Saint-Sacrement</td>\n",
       "      <td>69lBd1b0mO8rGGKWQmPPGt</td>\n",
       "      <td>2022-04-08</td>\n",
       "      <td>9</td>\n",
       "      <td>https://i.scdn.co/image/ab67616d0000b273b46dcb...</td>\n",
       "    </tr>\n",
       "    <tr>\n",
       "      <th>16582</th>\n",
       "      <td>16582</td>\n",
       "      <td>4Kgu9tJgtNXTWMjefKahs9</td>\n",
       "      <td>Mermania!, Vol. 2</td>\n",
       "      <td>0M4KPcHpaKrQrw02RfQzbt</td>\n",
       "      <td>2015-02-01</td>\n",
       "      <td>28</td>\n",
       "      <td>https://i.scdn.co/image/ab67616d0000b2738ce95a...</td>\n",
       "    </tr>\n",
       "  </tbody>\n",
       "</table>\n",
       "</div>"
      ],
      "text/plain": [
       "       Unnamed: 0               artist_id  \\\n",
       "33457       33457  1dblvToZwI83HRiOOtCZxB   \n",
       "89433       25466  7iZC2I6gz8gI0BLe2boBZR   \n",
       "11772       11772  11D6C5Ja7OtXDZ5tKlQDqn   \n",
       "12942       12942  4ZdfXQkef0hnTSqmhpGarA   \n",
       "743           743  5LgxRR1wszAksg7xmtNTXC   \n",
       "90370       26403  3LOaK3KF7jOJRsZ8J3aMSl   \n",
       "55967       55967  0TF2NxkJZPQoX1H53rEFM1   \n",
       "6596         6596  40AlBZ419hHc7DmwqAYeC0   \n",
       "28791       28791  3XShVLTDpWu204yzylK0yy   \n",
       "16582       16582  4Kgu9tJgtNXTWMjefKahs9   \n",
       "\n",
       "                                              album_name  \\\n",
       "33457                           Twelve Gates to the City   \n",
       "89433                                     Amore Amicizia   \n",
       "11772                                 Nyugati pályaudvar   \n",
       "12942  Two Cigaretts in the Dark (Authentic Recording...   \n",
       "743                                         Commiefornia   \n",
       "90370                                Blessures d'enfance   \n",
       "55967                         Visions (Expanded Edition)   \n",
       "6596        Concha Piquer, La Reina de la Copla, Vol. II   \n",
       "28791        Lord Berners: Le carosse du Saint-Sacrement   \n",
       "16582                                  Mermania!, Vol. 2   \n",
       "\n",
       "                     album_id release_date  total_tracks  \\\n",
       "33457  7J7WcEWoOgdkW8eSMNUhWY   1955-01-01            12   \n",
       "89433  4YyUYx5NeNKVnTeKXYZtJ8   2002-03-23            14   \n",
       "11772  1bAwvoqO1lXm7jRpZgRsTs   1939-07-01             6   \n",
       "12942  0rWG0vZk0EHhXMvUwmhjfP   2014-01-01            11   \n",
       "743    3oGRwiRvOHa3LOPmXgeLuL   2022-06-13            10   \n",
       "90370  1nu79hFp1vTUMyNwuqgoQi         1990            10   \n",
       "55967  7tcWk8cEeldaK1l1durZ6Z         1983            33   \n",
       "6596   7pvbbncqyGjhJdYnGvwwc0   2015-09-27            25   \n",
       "28791  69lBd1b0mO8rGGKWQmPPGt   2022-04-08             9   \n",
       "16582  0M4KPcHpaKrQrw02RfQzbt   2015-02-01            28   \n",
       "\n",
       "                                               url_image  \n",
       "33457  https://i.scdn.co/image/ab67616d0000b2733418df...  \n",
       "89433  https://i.scdn.co/image/ab67616d0000b273ac49cd...  \n",
       "11772  https://i.scdn.co/image/ab67616d0000b273488c6d...  \n",
       "12942  https://i.scdn.co/image/ab67616d0000b2733fe621...  \n",
       "743    https://i.scdn.co/image/ab67616d0000b2739aba6d...  \n",
       "90370  https://i.scdn.co/image/ab67616d0000b2736f62b6...  \n",
       "55967  https://i.scdn.co/image/ab67616d0000b273fafa88...  \n",
       "6596   https://i.scdn.co/image/ab67616d0000b273fb0f88...  \n",
       "28791  https://i.scdn.co/image/ab67616d0000b273b46dcb...  \n",
       "16582  https://i.scdn.co/image/ab67616d0000b2738ce95a...  "
      ]
     },
     "execution_count": 6,
     "metadata": {},
     "output_type": "execute_result"
    }
   ],
   "source": [
    "df.sample(10)"
   ]
  }
 ],
 "metadata": {
  "kernelspec": {
   "display_name": "Python 3",
   "language": "python",
   "name": "python3"
  },
  "language_info": {
   "codemirror_mode": {
    "name": "ipython",
    "version": 3
   },
   "file_extension": ".py",
   "mimetype": "text/x-python",
   "name": "python",
   "nbconvert_exporter": "python",
   "pygments_lexer": "ipython3",
   "version": "3.11.9"
  }
 },
 "nbformat": 4,
 "nbformat_minor": 2
}
