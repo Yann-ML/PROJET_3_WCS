{
 "cells": [
  {
   "cell_type": "code",
   "execution_count": 1,
   "metadata": {},
   "outputs": [],
   "source": [
    "import pandas as pd\n",
    "import plotly_express as px"
   ]
  },
  {
   "cell_type": "code",
   "execution_count": 2,
   "metadata": {},
   "outputs": [],
   "source": [
    "df = pd.read_csv('https://raw.githubusercontent.com/Yann-ML/PROJET_3_WCS/main/API_SPOTIFY/df_spotify_1754.zip')"
   ]
  },
  {
   "cell_type": "code",
   "execution_count": 4,
   "metadata": {},
   "outputs": [
    {
     "data": {
      "text/plain": [
       "0         11\n",
       "1         11\n",
       "2         11\n",
       "3         11\n",
       "4         11\n",
       "          ..\n",
       "265043    15\n",
       "265044    15\n",
       "265045    15\n",
       "265046    15\n",
       "265047    15\n",
       "Name: total_tracks, Length: 265048, dtype: int64"
      ]
     },
     "execution_count": 4,
     "metadata": {},
     "output_type": "execute_result"
    }
   ],
   "source": [
    "df['total_tracks']"
   ]
  },
  {
   "cell_type": "code",
   "execution_count": 5,
   "metadata": {},
   "outputs": [
    {
     "data": {
      "text/html": [
       "<div>\n",
       "<style scoped>\n",
       "    .dataframe tbody tr th:only-of-type {\n",
       "        vertical-align: middle;\n",
       "    }\n",
       "\n",
       "    .dataframe tbody tr th {\n",
       "        vertical-align: top;\n",
       "    }\n",
       "\n",
       "    .dataframe thead th {\n",
       "        text-align: right;\n",
       "    }\n",
       "</style>\n",
       "<table border=\"1\" class=\"dataframe\">\n",
       "  <thead>\n",
       "    <tr style=\"text-align: right;\">\n",
       "      <th></th>\n",
       "      <th>album_name</th>\n",
       "      <th>artist_name</th>\n",
       "      <th>total_tracks</th>\n",
       "    </tr>\n",
       "  </thead>\n",
       "  <tbody>\n",
       "    <tr>\n",
       "      <th>193918</th>\n",
       "      <td>One of Our Girls</td>\n",
       "      <td>A.C. Marias</td>\n",
       "      <td>11</td>\n",
       "    </tr>\n",
       "    <tr>\n",
       "      <th>193919</th>\n",
       "      <td>One of Our Girls</td>\n",
       "      <td>A.C. Marias</td>\n",
       "      <td>11</td>\n",
       "    </tr>\n",
       "    <tr>\n",
       "      <th>193920</th>\n",
       "      <td>One of Our Girls</td>\n",
       "      <td>A.C. Marias</td>\n",
       "      <td>11</td>\n",
       "    </tr>\n",
       "    <tr>\n",
       "      <th>193921</th>\n",
       "      <td>One of Our Girls</td>\n",
       "      <td>A.C. Marias</td>\n",
       "      <td>11</td>\n",
       "    </tr>\n",
       "    <tr>\n",
       "      <th>193922</th>\n",
       "      <td>One of Our Girls</td>\n",
       "      <td>A.C. Marias</td>\n",
       "      <td>11</td>\n",
       "    </tr>\n",
       "    <tr>\n",
       "      <th>193923</th>\n",
       "      <td>One of Our Girls</td>\n",
       "      <td>A.C. Marias</td>\n",
       "      <td>11</td>\n",
       "    </tr>\n",
       "    <tr>\n",
       "      <th>193924</th>\n",
       "      <td>One of Our Girls</td>\n",
       "      <td>A.C. Marias</td>\n",
       "      <td>11</td>\n",
       "    </tr>\n",
       "    <tr>\n",
       "      <th>193925</th>\n",
       "      <td>One of Our Girls</td>\n",
       "      <td>A.C. Marias</td>\n",
       "      <td>11</td>\n",
       "    </tr>\n",
       "    <tr>\n",
       "      <th>193926</th>\n",
       "      <td>One of Our Girls</td>\n",
       "      <td>A.C. Marias</td>\n",
       "      <td>11</td>\n",
       "    </tr>\n",
       "    <tr>\n",
       "      <th>193927</th>\n",
       "      <td>One of Our Girls</td>\n",
       "      <td>A.C. Marias</td>\n",
       "      <td>11</td>\n",
       "    </tr>\n",
       "    <tr>\n",
       "      <th>193928</th>\n",
       "      <td>One of Our Girls</td>\n",
       "      <td>A.C. Marias</td>\n",
       "      <td>11</td>\n",
       "    </tr>\n",
       "  </tbody>\n",
       "</table>\n",
       "</div>"
      ],
      "text/plain": [
       "              album_name  artist_name  total_tracks\n",
       "193918  One of Our Girls  A.C. Marias            11\n",
       "193919  One of Our Girls  A.C. Marias            11\n",
       "193920  One of Our Girls  A.C. Marias            11\n",
       "193921  One of Our Girls  A.C. Marias            11\n",
       "193922  One of Our Girls  A.C. Marias            11\n",
       "193923  One of Our Girls  A.C. Marias            11\n",
       "193924  One of Our Girls  A.C. Marias            11\n",
       "193925  One of Our Girls  A.C. Marias            11\n",
       "193926  One of Our Girls  A.C. Marias            11\n",
       "193927  One of Our Girls  A.C. Marias            11\n",
       "193928  One of Our Girls  A.C. Marias            11"
      ]
     },
     "execution_count": 5,
     "metadata": {},
     "output_type": "execute_result"
    }
   ],
   "source": [
    "df[['album_name', 'artist_name', 'total_tracks']][df['artist_name'] == 'A.C. Marias']"
   ]
  },
  {
   "cell_type": "code",
   "execution_count": 6,
   "metadata": {},
   "outputs": [
    {
     "data": {
      "text/html": [
       "<div>\n",
       "<style scoped>\n",
       "    .dataframe tbody tr th:only-of-type {\n",
       "        vertical-align: middle;\n",
       "    }\n",
       "\n",
       "    .dataframe tbody tr th {\n",
       "        vertical-align: top;\n",
       "    }\n",
       "\n",
       "    .dataframe thead th {\n",
       "        text-align: right;\n",
       "    }\n",
       "</style>\n",
       "<table border=\"1\" class=\"dataframe\">\n",
       "  <thead>\n",
       "    <tr style=\"text-align: right;\">\n",
       "      <th></th>\n",
       "      <th>album_name</th>\n",
       "      <th>album_id</th>\n",
       "      <th>album_type</th>\n",
       "      <th>total_tracks</th>\n",
       "      <th>release_date</th>\n",
       "      <th>release_date_precision</th>\n",
       "      <th>label</th>\n",
       "      <th>popularity_album</th>\n",
       "      <th>disc_number</th>\n",
       "      <th>track_number</th>\n",
       "      <th>track_id</th>\n",
       "      <th>track_name</th>\n",
       "      <th>duration_ms</th>\n",
       "      <th>artist_id</th>\n",
       "      <th>url_image_album</th>\n",
       "      <th>artist_name</th>\n",
       "      <th>popularity_artist</th>\n",
       "      <th>artist_followers</th>\n",
       "      <th>genres_artist</th>\n",
       "      <th>image_artist</th>\n",
       "    </tr>\n",
       "  </thead>\n",
       "  <tbody>\n",
       "    <tr>\n",
       "      <th>0</th>\n",
       "      <td>The Naked and the Dead</td>\n",
       "      <td>3JiQXpSQCwZMQfa7cdCQtg</td>\n",
       "      <td>album</td>\n",
       "      <td>11</td>\n",
       "      <td>2019-03-01</td>\n",
       "      <td>day</td>\n",
       "      <td>AnnapurnA</td>\n",
       "      <td>8</td>\n",
       "      <td>1</td>\n",
       "      <td>1</td>\n",
       "      <td>3A23OJNf8a904tA0xcyihv</td>\n",
       "      <td>Taboo</td>\n",
       "      <td>176746</td>\n",
       "      <td>16HZrqib5dArFNZ7YgukCU</td>\n",
       "      <td>https://i.scdn.co/image/ab67616d0000b2734e7c81...</td>\n",
       "      <td>The Naked And The Dead</td>\n",
       "      <td>21</td>\n",
       "      <td>18483</td>\n",
       "      <td>['deathrock', 'post-punk', 'darkwave', 'cold w...</td>\n",
       "      <td>https://i.scdn.co/image/ab67616d0000b2731759ae...</td>\n",
       "    </tr>\n",
       "    <tr>\n",
       "      <th>1</th>\n",
       "      <td>The Naked and the Dead</td>\n",
       "      <td>3JiQXpSQCwZMQfa7cdCQtg</td>\n",
       "      <td>album</td>\n",
       "      <td>11</td>\n",
       "      <td>2019-03-01</td>\n",
       "      <td>day</td>\n",
       "      <td>AnnapurnA</td>\n",
       "      <td>8</td>\n",
       "      <td>1</td>\n",
       "      <td>2</td>\n",
       "      <td>5sNv4pOOrRYGQcge05tOvl</td>\n",
       "      <td>Cassandra</td>\n",
       "      <td>206160</td>\n",
       "      <td>16HZrqib5dArFNZ7YgukCU</td>\n",
       "      <td>https://i.scdn.co/image/ab67616d0000b2734e7c81...</td>\n",
       "      <td>The Naked And The Dead</td>\n",
       "      <td>21</td>\n",
       "      <td>18483</td>\n",
       "      <td>['deathrock', 'post-punk', 'darkwave', 'cold w...</td>\n",
       "      <td>https://i.scdn.co/image/ab67616d0000b2731759ae...</td>\n",
       "    </tr>\n",
       "    <tr>\n",
       "      <th>2</th>\n",
       "      <td>The Naked and the Dead</td>\n",
       "      <td>3JiQXpSQCwZMQfa7cdCQtg</td>\n",
       "      <td>album</td>\n",
       "      <td>11</td>\n",
       "      <td>2019-03-01</td>\n",
       "      <td>day</td>\n",
       "      <td>AnnapurnA</td>\n",
       "      <td>8</td>\n",
       "      <td>1</td>\n",
       "      <td>3</td>\n",
       "      <td>0VgEaKOOYQpXRYrspCPqE5</td>\n",
       "      <td>Carousel</td>\n",
       "      <td>249773</td>\n",
       "      <td>16HZrqib5dArFNZ7YgukCU</td>\n",
       "      <td>https://i.scdn.co/image/ab67616d0000b2734e7c81...</td>\n",
       "      <td>The Naked And The Dead</td>\n",
       "      <td>21</td>\n",
       "      <td>18483</td>\n",
       "      <td>['deathrock', 'post-punk', 'darkwave', 'cold w...</td>\n",
       "      <td>https://i.scdn.co/image/ab67616d0000b2731759ae...</td>\n",
       "    </tr>\n",
       "    <tr>\n",
       "      <th>3</th>\n",
       "      <td>The Naked and the Dead</td>\n",
       "      <td>3JiQXpSQCwZMQfa7cdCQtg</td>\n",
       "      <td>album</td>\n",
       "      <td>11</td>\n",
       "      <td>2019-03-01</td>\n",
       "      <td>day</td>\n",
       "      <td>AnnapurnA</td>\n",
       "      <td>8</td>\n",
       "      <td>1</td>\n",
       "      <td>4</td>\n",
       "      <td>4QSj5oXxxadySUTJsAiTSX</td>\n",
       "      <td>The Gate</td>\n",
       "      <td>297840</td>\n",
       "      <td>16HZrqib5dArFNZ7YgukCU</td>\n",
       "      <td>https://i.scdn.co/image/ab67616d0000b2734e7c81...</td>\n",
       "      <td>The Naked And The Dead</td>\n",
       "      <td>21</td>\n",
       "      <td>18483</td>\n",
       "      <td>['deathrock', 'post-punk', 'darkwave', 'cold w...</td>\n",
       "      <td>https://i.scdn.co/image/ab67616d0000b2731759ae...</td>\n",
       "    </tr>\n",
       "    <tr>\n",
       "      <th>4</th>\n",
       "      <td>The Naked and the Dead</td>\n",
       "      <td>3JiQXpSQCwZMQfa7cdCQtg</td>\n",
       "      <td>album</td>\n",
       "      <td>11</td>\n",
       "      <td>2019-03-01</td>\n",
       "      <td>day</td>\n",
       "      <td>AnnapurnA</td>\n",
       "      <td>8</td>\n",
       "      <td>1</td>\n",
       "      <td>5</td>\n",
       "      <td>4ORVKuAyzqJpg0JxgUmre0</td>\n",
       "      <td>Real Good Time</td>\n",
       "      <td>153333</td>\n",
       "      <td>16HZrqib5dArFNZ7YgukCU</td>\n",
       "      <td>https://i.scdn.co/image/ab67616d0000b2734e7c81...</td>\n",
       "      <td>The Naked And The Dead</td>\n",
       "      <td>21</td>\n",
       "      <td>18483</td>\n",
       "      <td>['deathrock', 'post-punk', 'darkwave', 'cold w...</td>\n",
       "      <td>https://i.scdn.co/image/ab67616d0000b2731759ae...</td>\n",
       "    </tr>\n",
       "    <tr>\n",
       "      <th>...</th>\n",
       "      <td>...</td>\n",
       "      <td>...</td>\n",
       "      <td>...</td>\n",
       "      <td>...</td>\n",
       "      <td>...</td>\n",
       "      <td>...</td>\n",
       "      <td>...</td>\n",
       "      <td>...</td>\n",
       "      <td>...</td>\n",
       "      <td>...</td>\n",
       "      <td>...</td>\n",
       "      <td>...</td>\n",
       "      <td>...</td>\n",
       "      <td>...</td>\n",
       "      <td>...</td>\n",
       "      <td>...</td>\n",
       "      <td>...</td>\n",
       "      <td>...</td>\n",
       "      <td>...</td>\n",
       "      <td>...</td>\n",
       "    </tr>\n",
       "    <tr>\n",
       "      <th>265043</th>\n",
       "      <td>Borrasca</td>\n",
       "      <td>69dd5s9JyQYrcNH4nbG8A8</td>\n",
       "      <td>album</td>\n",
       "      <td>15</td>\n",
       "      <td>1991-01-01</td>\n",
       "      <td>day</td>\n",
       "      <td>Higher Octave</td>\n",
       "      <td>32</td>\n",
       "      <td>1</td>\n",
       "      <td>11</td>\n",
       "      <td>6XYa9qD1caUhYWMaZoaEIk</td>\n",
       "      <td>Driving 2 Madrid (B4 The Storm)</td>\n",
       "      <td>248866</td>\n",
       "      <td>1AhYnfs5mzb3ennyLFXlYD</td>\n",
       "      <td>https://i.scdn.co/image/ab67616d0000b27327f261...</td>\n",
       "      <td>Ottmar Liebert</td>\n",
       "      <td>42</td>\n",
       "      <td>76248</td>\n",
       "      <td>['flamenco', 'new age']</td>\n",
       "      <td>https://i.scdn.co/image/79f595ea0b3ca026a7fd2e...</td>\n",
       "    </tr>\n",
       "    <tr>\n",
       "      <th>265044</th>\n",
       "      <td>Borrasca</td>\n",
       "      <td>69dd5s9JyQYrcNH4nbG8A8</td>\n",
       "      <td>album</td>\n",
       "      <td>15</td>\n",
       "      <td>1991-01-01</td>\n",
       "      <td>day</td>\n",
       "      <td>Higher Octave</td>\n",
       "      <td>32</td>\n",
       "      <td>1</td>\n",
       "      <td>12</td>\n",
       "      <td>3EYKgGVJuXuBkDicPAQUhT</td>\n",
       "      <td>The Storm Sings</td>\n",
       "      <td>239293</td>\n",
       "      <td>1AhYnfs5mzb3ennyLFXlYD</td>\n",
       "      <td>https://i.scdn.co/image/ab67616d0000b27327f261...</td>\n",
       "      <td>Ottmar Liebert</td>\n",
       "      <td>42</td>\n",
       "      <td>76248</td>\n",
       "      <td>['flamenco', 'new age']</td>\n",
       "      <td>https://i.scdn.co/image/79f595ea0b3ca026a7fd2e...</td>\n",
       "    </tr>\n",
       "    <tr>\n",
       "      <th>265045</th>\n",
       "      <td>Borrasca</td>\n",
       "      <td>69dd5s9JyQYrcNH4nbG8A8</td>\n",
       "      <td>album</td>\n",
       "      <td>15</td>\n",
       "      <td>1991-01-01</td>\n",
       "      <td>day</td>\n",
       "      <td>Higher Octave</td>\n",
       "      <td>32</td>\n",
       "      <td>1</td>\n",
       "      <td>13</td>\n",
       "      <td>011sSJRzBME5JxpsTvBKIF</td>\n",
       "      <td>Night In Granada</td>\n",
       "      <td>232373</td>\n",
       "      <td>1AhYnfs5mzb3ennyLFXlYD</td>\n",
       "      <td>https://i.scdn.co/image/ab67616d0000b27327f261...</td>\n",
       "      <td>Ottmar Liebert</td>\n",
       "      <td>42</td>\n",
       "      <td>76248</td>\n",
       "      <td>['flamenco', 'new age']</td>\n",
       "      <td>https://i.scdn.co/image/79f595ea0b3ca026a7fd2e...</td>\n",
       "    </tr>\n",
       "    <tr>\n",
       "      <th>265046</th>\n",
       "      <td>Borrasca</td>\n",
       "      <td>69dd5s9JyQYrcNH4nbG8A8</td>\n",
       "      <td>album</td>\n",
       "      <td>15</td>\n",
       "      <td>1991-01-01</td>\n",
       "      <td>day</td>\n",
       "      <td>Higher Octave</td>\n",
       "      <td>32</td>\n",
       "      <td>1</td>\n",
       "      <td>14</td>\n",
       "      <td>5re0XNJhWf2BbC0igr1yCt</td>\n",
       "      <td>1st Rain/Cry Of Faith</td>\n",
       "      <td>272626</td>\n",
       "      <td>1AhYnfs5mzb3ennyLFXlYD</td>\n",
       "      <td>https://i.scdn.co/image/ab67616d0000b27327f261...</td>\n",
       "      <td>Ottmar Liebert</td>\n",
       "      <td>42</td>\n",
       "      <td>76248</td>\n",
       "      <td>['flamenco', 'new age']</td>\n",
       "      <td>https://i.scdn.co/image/79f595ea0b3ca026a7fd2e...</td>\n",
       "    </tr>\n",
       "    <tr>\n",
       "      <th>265047</th>\n",
       "      <td>Borrasca</td>\n",
       "      <td>69dd5s9JyQYrcNH4nbG8A8</td>\n",
       "      <td>album</td>\n",
       "      <td>15</td>\n",
       "      <td>1991-01-01</td>\n",
       "      <td>day</td>\n",
       "      <td>Higher Octave</td>\n",
       "      <td>32</td>\n",
       "      <td>1</td>\n",
       "      <td>15</td>\n",
       "      <td>5964zPjCuJDwL2BpFDISE7</td>\n",
       "      <td>Bajo La Luna Mix</td>\n",
       "      <td>379866</td>\n",
       "      <td>1AhYnfs5mzb3ennyLFXlYD</td>\n",
       "      <td>https://i.scdn.co/image/ab67616d0000b27327f261...</td>\n",
       "      <td>Ottmar Liebert</td>\n",
       "      <td>42</td>\n",
       "      <td>76248</td>\n",
       "      <td>['flamenco', 'new age']</td>\n",
       "      <td>https://i.scdn.co/image/79f595ea0b3ca026a7fd2e...</td>\n",
       "    </tr>\n",
       "  </tbody>\n",
       "</table>\n",
       "<p>265048 rows × 20 columns</p>\n",
       "</div>"
      ],
      "text/plain": [
       "                    album_name                album_id album_type  \\\n",
       "0       The Naked and the Dead  3JiQXpSQCwZMQfa7cdCQtg      album   \n",
       "1       The Naked and the Dead  3JiQXpSQCwZMQfa7cdCQtg      album   \n",
       "2       The Naked and the Dead  3JiQXpSQCwZMQfa7cdCQtg      album   \n",
       "3       The Naked and the Dead  3JiQXpSQCwZMQfa7cdCQtg      album   \n",
       "4       The Naked and the Dead  3JiQXpSQCwZMQfa7cdCQtg      album   \n",
       "...                        ...                     ...        ...   \n",
       "265043                Borrasca  69dd5s9JyQYrcNH4nbG8A8      album   \n",
       "265044                Borrasca  69dd5s9JyQYrcNH4nbG8A8      album   \n",
       "265045                Borrasca  69dd5s9JyQYrcNH4nbG8A8      album   \n",
       "265046                Borrasca  69dd5s9JyQYrcNH4nbG8A8      album   \n",
       "265047                Borrasca  69dd5s9JyQYrcNH4nbG8A8      album   \n",
       "\n",
       "        total_tracks release_date release_date_precision          label  \\\n",
       "0                 11   2019-03-01                    day      AnnapurnA   \n",
       "1                 11   2019-03-01                    day      AnnapurnA   \n",
       "2                 11   2019-03-01                    day      AnnapurnA   \n",
       "3                 11   2019-03-01                    day      AnnapurnA   \n",
       "4                 11   2019-03-01                    day      AnnapurnA   \n",
       "...              ...          ...                    ...            ...   \n",
       "265043            15   1991-01-01                    day  Higher Octave   \n",
       "265044            15   1991-01-01                    day  Higher Octave   \n",
       "265045            15   1991-01-01                    day  Higher Octave   \n",
       "265046            15   1991-01-01                    day  Higher Octave   \n",
       "265047            15   1991-01-01                    day  Higher Octave   \n",
       "\n",
       "        popularity_album  disc_number  track_number                track_id  \\\n",
       "0                      8            1             1  3A23OJNf8a904tA0xcyihv   \n",
       "1                      8            1             2  5sNv4pOOrRYGQcge05tOvl   \n",
       "2                      8            1             3  0VgEaKOOYQpXRYrspCPqE5   \n",
       "3                      8            1             4  4QSj5oXxxadySUTJsAiTSX   \n",
       "4                      8            1             5  4ORVKuAyzqJpg0JxgUmre0   \n",
       "...                  ...          ...           ...                     ...   \n",
       "265043                32            1            11  6XYa9qD1caUhYWMaZoaEIk   \n",
       "265044                32            1            12  3EYKgGVJuXuBkDicPAQUhT   \n",
       "265045                32            1            13  011sSJRzBME5JxpsTvBKIF   \n",
       "265046                32            1            14  5re0XNJhWf2BbC0igr1yCt   \n",
       "265047                32            1            15  5964zPjCuJDwL2BpFDISE7   \n",
       "\n",
       "                             track_name  duration_ms               artist_id  \\\n",
       "0                                 Taboo       176746  16HZrqib5dArFNZ7YgukCU   \n",
       "1                             Cassandra       206160  16HZrqib5dArFNZ7YgukCU   \n",
       "2                              Carousel       249773  16HZrqib5dArFNZ7YgukCU   \n",
       "3                              The Gate       297840  16HZrqib5dArFNZ7YgukCU   \n",
       "4                        Real Good Time       153333  16HZrqib5dArFNZ7YgukCU   \n",
       "...                                 ...          ...                     ...   \n",
       "265043  Driving 2 Madrid (B4 The Storm)       248866  1AhYnfs5mzb3ennyLFXlYD   \n",
       "265044                  The Storm Sings       239293  1AhYnfs5mzb3ennyLFXlYD   \n",
       "265045                 Night In Granada       232373  1AhYnfs5mzb3ennyLFXlYD   \n",
       "265046            1st Rain/Cry Of Faith       272626  1AhYnfs5mzb3ennyLFXlYD   \n",
       "265047                 Bajo La Luna Mix       379866  1AhYnfs5mzb3ennyLFXlYD   \n",
       "\n",
       "                                          url_image_album  \\\n",
       "0       https://i.scdn.co/image/ab67616d0000b2734e7c81...   \n",
       "1       https://i.scdn.co/image/ab67616d0000b2734e7c81...   \n",
       "2       https://i.scdn.co/image/ab67616d0000b2734e7c81...   \n",
       "3       https://i.scdn.co/image/ab67616d0000b2734e7c81...   \n",
       "4       https://i.scdn.co/image/ab67616d0000b2734e7c81...   \n",
       "...                                                   ...   \n",
       "265043  https://i.scdn.co/image/ab67616d0000b27327f261...   \n",
       "265044  https://i.scdn.co/image/ab67616d0000b27327f261...   \n",
       "265045  https://i.scdn.co/image/ab67616d0000b27327f261...   \n",
       "265046  https://i.scdn.co/image/ab67616d0000b27327f261...   \n",
       "265047  https://i.scdn.co/image/ab67616d0000b27327f261...   \n",
       "\n",
       "                   artist_name  popularity_artist  artist_followers  \\\n",
       "0       The Naked And The Dead                 21             18483   \n",
       "1       The Naked And The Dead                 21             18483   \n",
       "2       The Naked And The Dead                 21             18483   \n",
       "3       The Naked And The Dead                 21             18483   \n",
       "4       The Naked And The Dead                 21             18483   \n",
       "...                        ...                ...               ...   \n",
       "265043          Ottmar Liebert                 42             76248   \n",
       "265044          Ottmar Liebert                 42             76248   \n",
       "265045          Ottmar Liebert                 42             76248   \n",
       "265046          Ottmar Liebert                 42             76248   \n",
       "265047          Ottmar Liebert                 42             76248   \n",
       "\n",
       "                                            genres_artist  \\\n",
       "0       ['deathrock', 'post-punk', 'darkwave', 'cold w...   \n",
       "1       ['deathrock', 'post-punk', 'darkwave', 'cold w...   \n",
       "2       ['deathrock', 'post-punk', 'darkwave', 'cold w...   \n",
       "3       ['deathrock', 'post-punk', 'darkwave', 'cold w...   \n",
       "4       ['deathrock', 'post-punk', 'darkwave', 'cold w...   \n",
       "...                                                   ...   \n",
       "265043                            ['flamenco', 'new age']   \n",
       "265044                            ['flamenco', 'new age']   \n",
       "265045                            ['flamenco', 'new age']   \n",
       "265046                            ['flamenco', 'new age']   \n",
       "265047                            ['flamenco', 'new age']   \n",
       "\n",
       "                                             image_artist  \n",
       "0       https://i.scdn.co/image/ab67616d0000b2731759ae...  \n",
       "1       https://i.scdn.co/image/ab67616d0000b2731759ae...  \n",
       "2       https://i.scdn.co/image/ab67616d0000b2731759ae...  \n",
       "3       https://i.scdn.co/image/ab67616d0000b2731759ae...  \n",
       "4       https://i.scdn.co/image/ab67616d0000b2731759ae...  \n",
       "...                                                   ...  \n",
       "265043  https://i.scdn.co/image/79f595ea0b3ca026a7fd2e...  \n",
       "265044  https://i.scdn.co/image/79f595ea0b3ca026a7fd2e...  \n",
       "265045  https://i.scdn.co/image/79f595ea0b3ca026a7fd2e...  \n",
       "265046  https://i.scdn.co/image/79f595ea0b3ca026a7fd2e...  \n",
       "265047  https://i.scdn.co/image/79f595ea0b3ca026a7fd2e...  \n",
       "\n",
       "[265048 rows x 20 columns]"
      ]
     },
     "execution_count": 6,
     "metadata": {},
     "output_type": "execute_result"
    }
   ],
   "source": [
    "df"
   ]
  },
  {
   "cell_type": "code",
   "execution_count": 7,
   "metadata": {},
   "outputs": [
    {
     "data": {
      "text/plain": [
       "<function plotly.express._chart_types.bar(data_frame=None, x=None, y=None, color=None, pattern_shape=None, facet_row=None, facet_col=None, facet_col_wrap=0, facet_row_spacing=None, facet_col_spacing=None, hover_name=None, hover_data=None, custom_data=None, text=None, base=None, error_x=None, error_x_minus=None, error_y=None, error_y_minus=None, animation_frame=None, animation_group=None, category_orders=None, labels=None, color_discrete_sequence=None, color_discrete_map=None, color_continuous_scale=None, pattern_shape_sequence=None, pattern_shape_map=None, range_color=None, color_continuous_midpoint=None, opacity=None, orientation=None, barmode='relative', log_x=False, log_y=False, range_x=None, range_y=None, text_auto=False, title=None, template=None, width=None, height=None) -> plotly.graph_objs._figure.Figure>"
      ]
     },
     "execution_count": 7,
     "metadata": {},
     "output_type": "execute_result"
    }
   ],
   "source": [
    "px.bar"
   ]
  },
  {
   "cell_type": "code",
   "execution_count": 8,
   "metadata": {},
   "outputs": [
    {
     "data": {
      "application/vnd.plotly.v1+json": {
       "config": {
        "plotlyServerURL": "https://plot.ly"
       },
       "data": [
        {
         "alignmentgroup": "True",
         "hovertemplate": "album_name=%{x}<br>count=%{y}<extra></extra>",
         "legendgroup": "",
         "marker": {
          "color": "#636efa",
          "pattern": {
           "shape": ""
          }
         },
         "name": "",
         "offsetgroup": "",
         "orientation": "v",
         "showlegend": false,
         "textposition": "auto",
         "type": "bar",
         "x": [
          "strictly, lofi",
          "strictly, lofi",
          "strictly, lofi",
          "strictly, lofi",
          "strictly, lofi",
          "strictly, lofi",
          "strictly, lofi",
          "strictly, lofi",
          "strictly, lofi",
          "strictly, lofi",
          "strictly, lofi",
          "strictly, lofi",
          "strictly, lofi",
          "strictly, lofi",
          "strictly, lofi",
          "strictly, lofi",
          "lofi chill vibes with 2Pac",
          "lofi chill vibes with 2Pac",
          "lofi chill vibes with 2Pac",
          "lofi chill vibes with 2Pac",
          "lofi chill vibes with 2Pac",
          "lofi chill vibes with 2Pac",
          "lofi chill vibes with 2Pac",
          "lofi chill vibes with 2Pac",
          "lofi chill vibes with 2Pac",
          "lofi chill vibes with 2Pac",
          "lofi chill vibes with 2Pac",
          "lofi chill vibes with 2Pac",
          "lofi chill vibes with 2Pac",
          "lofi chill vibes with 2Pac",
          "lofi chill vibes with 2Pac",
          "lofi chill vibes with 2Pac",
          "Strictly 4 My N.I.G.G.A.Z... (Expanded Edition)",
          "Strictly 4 My N.I.G.G.A.Z... (Expanded Edition)",
          "Strictly 4 My N.I.G.G.A.Z... (Expanded Edition)",
          "Strictly 4 My N.I.G.G.A.Z... (Expanded Edition)",
          "Strictly 4 My N.I.G.G.A.Z... (Expanded Edition)",
          "Strictly 4 My N.I.G.G.A.Z... (Expanded Edition)",
          "Strictly 4 My N.I.G.G.A.Z... (Expanded Edition)",
          "Strictly 4 My N.I.G.G.A.Z... (Expanded Edition)",
          "Strictly 4 My N.I.G.G.A.Z... (Expanded Edition)",
          "Strictly 4 My N.I.G.G.A.Z... (Expanded Edition)",
          "Strictly 4 My N.I.G.G.A.Z... (Expanded Edition)",
          "Strictly 4 My N.I.G.G.A.Z... (Expanded Edition)",
          "Strictly 4 My N.I.G.G.A.Z... (Expanded Edition)",
          "Strictly 4 My N.I.G.G.A.Z... (Expanded Edition)",
          "Strictly 4 My N.I.G.G.A.Z... (Expanded Edition)",
          "Strictly 4 My N.I.G.G.A.Z... (Expanded Edition)",
          "Strictly 4 My N.I.G.G.A.Z... (Expanded Edition)",
          "Strictly 4 My N.I.G.G.A.Z... (Expanded Edition)",
          "Strictly 4 My N.I.G.G.A.Z... (Expanded Edition)",
          "Strictly 4 My N.I.G.G.A.Z... (Expanded Edition)",
          "Strictly 4 My N.I.G.G.A.Z... (Expanded Edition)",
          "Strictly 4 My N.I.G.G.A.Z... (Expanded Edition)",
          "California Love",
          "California Love",
          "California Love",
          "California Love",
          "California Love",
          "California Love",
          "California Love",
          "California Love",
          "California Love",
          "California Love",
          "California Love",
          "California Love",
          "California Love",
          "California Love",
          "California Love",
          "Ghetto Gospel (The Birth of A Legend)",
          "Ghetto Gospel (The Birth of A Legend)",
          "Ghetto Gospel (The Birth of A Legend)",
          "Ghetto Gospel (The Birth of A Legend)",
          "Ghetto Gospel (The Birth of A Legend)",
          "Ghetto Gospel (The Birth of A Legend)",
          "Ghetto Gospel (The Birth of A Legend)",
          "Ghetto Gospel (The Birth of A Legend)",
          "Ghetto Gospel (The Birth of A Legend)",
          "Ghetto Gospel (The Birth of A Legend)",
          "Ghetto Gospel (The Birth of A Legend)",
          "Ghetto Gospel (The Birth of A Legend)",
          "Soldier 2 Soldier (Collector's Edition)",
          "Soldier 2 Soldier (Collector's Edition)",
          "Soldier 2 Soldier (Collector's Edition)",
          "Soldier 2 Soldier (Collector's Edition)",
          "Soldier 2 Soldier (Collector's Edition)",
          "Soldier 2 Soldier (Collector's Edition)",
          "Soldier 2 Soldier (Collector's Edition)",
          "Soldier 2 Soldier (Collector's Edition)",
          "Soldier 2 Soldier (Collector's Edition)",
          "Soldier 2 Soldier (Collector's Edition)",
          "Soldier 2 Soldier (Collector's Edition)",
          "Soldier 2 Soldier (Collector's Edition)",
          "Soldier 2 Soldier (Collector's Edition)",
          "Soldier 2 Soldier (Collector's Edition)",
          "Soldier 2 Soldier (Collector's Edition)",
          "Soldier 2 Soldier (Collector's Edition)",
          "Pac's Life",
          "Pac's Life",
          "Pac's Life",
          "Pac's Life",
          "Pac's Life",
          "Pac's Life",
          "Pac's Life",
          "Pac's Life",
          "Pac's Life",
          "Pac's Life",
          "Pac's Life",
          "Pac's Life",
          "Pac's Life",
          "Tupac: Live At The House Of Blues",
          "Tupac: Live At The House Of Blues",
          "Tupac: Live At The House Of Blues",
          "Tupac: Live At The House Of Blues",
          "Tupac: Live At The House Of Blues",
          "Tupac: Live At The House Of Blues",
          "Tupac: Live At The House Of Blues",
          "Tupac: Live At The House Of Blues",
          "Tupac: Live At The House Of Blues",
          "Tupac: Live At The House Of Blues",
          "Tupac: Live At The House Of Blues",
          "Tupac: Live At The House Of Blues",
          "Tupac: Live At The House Of Blues",
          "Tupac: Live At The House Of Blues",
          "Tupac: Live At The House Of Blues",
          "Tupac: Live At The House Of Blues",
          "Tupac: Live At The House Of Blues",
          "Tupac: Live At The House Of Blues",
          "Tupac: Live At The House Of Blues",
          "Tupac: Live At The House Of Blues",
          "Tupac: Live At The House Of Blues",
          "Tupac: Live At The House Of Blues",
          "Tupac: Live At The House Of Blues",
          "Tupac: Live At The House Of Blues",
          "Tupac: Live At The House Of Blues",
          "Loyal To The Game",
          "Loyal To The Game",
          "Loyal To The Game",
          "Loyal To The Game",
          "Loyal To The Game",
          "Loyal To The Game",
          "Loyal To The Game",
          "Loyal To The Game",
          "Loyal To The Game",
          "Loyal To The Game",
          "Loyal To The Game",
          "Loyal To The Game",
          "Loyal To The Game",
          "Loyal To The Game",
          "Loyal To The Game",
          "Loyal To The Game",
          "Loyal To The Game",
          "Resurrection (Music From And Inspired By The Motion Picture)",
          "Resurrection (Music From And Inspired By The Motion Picture)",
          "Resurrection (Music From And Inspired By The Motion Picture)",
          "Resurrection (Music From And Inspired By The Motion Picture)",
          "Resurrection (Music From And Inspired By The Motion Picture)",
          "Resurrection (Music From And Inspired By The Motion Picture)",
          "Resurrection (Music From And Inspired By The Motion Picture)",
          "Resurrection (Music From And Inspired By The Motion Picture)",
          "Resurrection (Music From And Inspired By The Motion Picture)",
          "Resurrection (Music From And Inspired By The Motion Picture)",
          "Resurrection (Music From And Inspired By The Motion Picture)",
          "Resurrection (Music From And Inspired By The Motion Picture)",
          "Resurrection (Music From And Inspired By The Motion Picture)",
          "Resurrection (Music From And Inspired By The Motion Picture)",
          "Better Dayz",
          "Better Dayz",
          "Better Dayz",
          "Better Dayz",
          "Better Dayz",
          "Better Dayz",
          "Better Dayz",
          "Better Dayz",
          "Better Dayz",
          "Better Dayz",
          "Better Dayz",
          "Better Dayz",
          "Better Dayz",
          "Better Dayz",
          "Better Dayz",
          "Better Dayz",
          "Better Dayz",
          "Better Dayz",
          "Better Dayz",
          "Better Dayz",
          "Better Dayz",
          "Better Dayz",
          "Better Dayz",
          "Better Dayz",
          "Better Dayz",
          "Better Dayz",
          "Unsolved",
          "Unsolved",
          "Unsolved",
          "Unsolved",
          "Unsolved",
          "Unsolved",
          "Unsolved",
          "Unsolved",
          "Unsolved",
          "Unsolved",
          "Until The End Of Time",
          "Until The End Of Time",
          "Until The End Of Time",
          "Until The End Of Time",
          "Until The End Of Time",
          "Until The End Of Time",
          "Until The End Of Time",
          "Until The End Of Time",
          "Until The End Of Time",
          "Until The End Of Time",
          "Until The End Of Time",
          "Until The End Of Time",
          "Until The End Of Time",
          "Until The End Of Time",
          "Until The End Of Time",
          "Until The End Of Time",
          "Until The End Of Time",
          "Until The End Of Time",
          "Until The End Of Time",
          "Until The End Of Time",
          "Until The End Of Time",
          "Until The End Of Time",
          "Until The End Of Time",
          "Until The End Of Time",
          "Until The End Of Time",
          "Until The End Of Time",
          "Until The End Of Time",
          "Until The End Of Time",
          "Until The End Of Time",
          "Until The End Of Time",
          "Until The End Of Time",
          "Until The End Of Time",
          "Until The End Of Time",
          "Until The End Of Time",
          "Until The End Of Time",
          "Until The End Of Time",
          "Until The End Of Time",
          "Until The End Of Time",
          "Until The End Of Time",
          "Until The End Of Time",
          "Until The End Of Time",
          "Until The End Of Time",
          "Until The End Of Time",
          "Until The End Of Time",
          "Until The End Of Time",
          "Until The End Of Time",
          "Until The End Of Time",
          "Until The End Of Time",
          "Until The End Of Time",
          "Until The End Of Time",
          "Until The End Of Time",
          "Until The End Of Time",
          "Until The End Of Time",
          "Until The End Of Time",
          "Until The End Of Time",
          "Until The End Of Time",
          "Until The End Of Time",
          "R U Still Down? [Remember Me]",
          "R U Still Down? [Remember Me]",
          "R U Still Down? [Remember Me]",
          "R U Still Down? [Remember Me]",
          "R U Still Down? [Remember Me]",
          "R U Still Down? [Remember Me]",
          "R U Still Down? [Remember Me]",
          "R U Still Down? [Remember Me]",
          "R U Still Down? [Remember Me]",
          "R U Still Down? [Remember Me]",
          "R U Still Down? [Remember Me]",
          "R U Still Down? [Remember Me]",
          "R U Still Down? [Remember Me]",
          "R U Still Down? [Remember Me]",
          "R U Still Down? [Remember Me]",
          "R U Still Down? [Remember Me]",
          "R U Still Down? [Remember Me]",
          "R U Still Down? [Remember Me]",
          "R U Still Down? [Remember Me]",
          "R U Still Down? [Remember Me]",
          "R U Still Down? [Remember Me]",
          "R U Still Down? [Remember Me]",
          "R U Still Down? [Remember Me]",
          "R U Still Down? [Remember Me]",
          "R U Still Down? [Remember Me]",
          "R U Still Down? [Remember Me]",
          "All Eyez On Me",
          "All Eyez On Me",
          "All Eyez On Me",
          "All Eyez On Me",
          "All Eyez On Me",
          "All Eyez On Me",
          "All Eyez On Me",
          "All Eyez On Me",
          "All Eyez On Me",
          "All Eyez On Me",
          "All Eyez On Me",
          "All Eyez On Me",
          "All Eyez On Me",
          "All Eyez On Me",
          "All Eyez On Me",
          "All Eyez On Me",
          "All Eyez On Me",
          "All Eyez On Me",
          "All Eyez On Me",
          "All Eyez On Me",
          "All Eyez On Me",
          "All Eyez On Me",
          "All Eyez On Me",
          "All Eyez On Me",
          "All Eyez On Me",
          "All Eyez On Me",
          "All Eyez On Me",
          "Me Against The World",
          "Me Against The World",
          "Me Against The World",
          "Me Against The World",
          "Me Against The World",
          "Me Against The World",
          "Me Against The World",
          "Me Against The World",
          "Me Against The World",
          "Me Against The World",
          "Me Against The World",
          "Me Against The World",
          "Me Against The World",
          "Me Against The World",
          "Me Against The World",
          "Strictly 4 My N.I.G.G.A.Z...",
          "Strictly 4 My N.I.G.G.A.Z...",
          "Strictly 4 My N.I.G.G.A.Z...",
          "Strictly 4 My N.I.G.G.A.Z...",
          "Strictly 4 My N.I.G.G.A.Z...",
          "Strictly 4 My N.I.G.G.A.Z...",
          "Strictly 4 My N.I.G.G.A.Z...",
          "Strictly 4 My N.I.G.G.A.Z...",
          "Strictly 4 My N.I.G.G.A.Z...",
          "Strictly 4 My N.I.G.G.A.Z...",
          "Strictly 4 My N.I.G.G.A.Z...",
          "Strictly 4 My N.I.G.G.A.Z...",
          "Strictly 4 My N.I.G.G.A.Z...",
          "Strictly 4 My N.I.G.G.A.Z...",
          "Strictly 4 My N.I.G.G.A.Z...",
          "Strictly 4 My N.I.G.G.A.Z...",
          "2Pacalypse Now",
          "2Pacalypse Now",
          "2Pacalypse Now",
          "2Pacalypse Now",
          "2Pacalypse Now",
          "2Pacalypse Now",
          "2Pacalypse Now",
          "2Pacalypse Now",
          "2Pacalypse Now",
          "2Pacalypse Now",
          "2Pacalypse Now",
          "2Pacalypse Now",
          "2Pacalypse Now"
         ],
         "xaxis": "x",
         "y": [
          1,
          1,
          1,
          1,
          1,
          1,
          1,
          1,
          1,
          1,
          1,
          1,
          1,
          1,
          1,
          1,
          1,
          1,
          1,
          1,
          1,
          1,
          1,
          1,
          1,
          1,
          1,
          1,
          1,
          1,
          1,
          1,
          1,
          1,
          1,
          1,
          1,
          1,
          1,
          1,
          1,
          1,
          1,
          1,
          1,
          1,
          1,
          1,
          1,
          1,
          1,
          1,
          1,
          1,
          1,
          1,
          1,
          1,
          1,
          1,
          1,
          1,
          1,
          1,
          1,
          1,
          1,
          1,
          1,
          1,
          1,
          1,
          1,
          1,
          1,
          1,
          1,
          1,
          1,
          1,
          1,
          1,
          1,
          1,
          1,
          1,
          1,
          1,
          1,
          1,
          1,
          1,
          1,
          1,
          1,
          1,
          1,
          1,
          1,
          1,
          1,
          1,
          1,
          1,
          1,
          1,
          1,
          1,
          1,
          1,
          1,
          1,
          1,
          1,
          1,
          1,
          1,
          1,
          1,
          1,
          1,
          1,
          1,
          1,
          1,
          1,
          1,
          1,
          1,
          1,
          1,
          1,
          1,
          1,
          1,
          1,
          1,
          1,
          1,
          1,
          1,
          1,
          1,
          1,
          1,
          1,
          1,
          1,
          1,
          1,
          1,
          1,
          1,
          1,
          1,
          1,
          1,
          1,
          1,
          1,
          1,
          1,
          1,
          1,
          1,
          1,
          1,
          1,
          1,
          1,
          1,
          1,
          1,
          1,
          1,
          1,
          1,
          1,
          1,
          1,
          1,
          1,
          1,
          1,
          1,
          1,
          1,
          1,
          1,
          1,
          1,
          1,
          1,
          1,
          1,
          1,
          1,
          1,
          1,
          1,
          1,
          1,
          1,
          1,
          1,
          1,
          1,
          1,
          1,
          1,
          1,
          1,
          1,
          1,
          1,
          1,
          1,
          1,
          1,
          1,
          1,
          1,
          1,
          1,
          1,
          1,
          1,
          1,
          1,
          1,
          1,
          1,
          1,
          1,
          1,
          1,
          1,
          1,
          1,
          1,
          1,
          1,
          1,
          1,
          1,
          1,
          1,
          1,
          1,
          1,
          1,
          1,
          1,
          1,
          1,
          1,
          1,
          1,
          1,
          1,
          1,
          1,
          1,
          1,
          1,
          1,
          1,
          1,
          1,
          1,
          1,
          1,
          1,
          1,
          1,
          1,
          1,
          1,
          1,
          1,
          1,
          1,
          1,
          1,
          1,
          1,
          1,
          1,
          1,
          1,
          1,
          1,
          1,
          1,
          1,
          1,
          1,
          1,
          1,
          1,
          1,
          1,
          1,
          1,
          1,
          1,
          1,
          1,
          1,
          1,
          1,
          1,
          1,
          1,
          1,
          1,
          1,
          1,
          1,
          1,
          1,
          1,
          1,
          1,
          1,
          1,
          1,
          1,
          1,
          1,
          1,
          1,
          1,
          1,
          1,
          1,
          1,
          1,
          1,
          1,
          1,
          1,
          1,
          1,
          1,
          1,
          1,
          1,
          1,
          1,
          1,
          1,
          1,
          1,
          1,
          1
         ],
         "yaxis": "y"
        }
       ],
       "layout": {
        "barmode": "relative",
        "legend": {
         "tracegroupgap": 0
        },
        "margin": {
         "t": 60
        },
        "template": {
         "data": {
          "bar": [
           {
            "error_x": {
             "color": "#2a3f5f"
            },
            "error_y": {
             "color": "#2a3f5f"
            },
            "marker": {
             "line": {
              "color": "#E5ECF6",
              "width": 0.5
             },
             "pattern": {
              "fillmode": "overlay",
              "size": 10,
              "solidity": 0.2
             }
            },
            "type": "bar"
           }
          ],
          "barpolar": [
           {
            "marker": {
             "line": {
              "color": "#E5ECF6",
              "width": 0.5
             },
             "pattern": {
              "fillmode": "overlay",
              "size": 10,
              "solidity": 0.2
             }
            },
            "type": "barpolar"
           }
          ],
          "carpet": [
           {
            "aaxis": {
             "endlinecolor": "#2a3f5f",
             "gridcolor": "white",
             "linecolor": "white",
             "minorgridcolor": "white",
             "startlinecolor": "#2a3f5f"
            },
            "baxis": {
             "endlinecolor": "#2a3f5f",
             "gridcolor": "white",
             "linecolor": "white",
             "minorgridcolor": "white",
             "startlinecolor": "#2a3f5f"
            },
            "type": "carpet"
           }
          ],
          "choropleth": [
           {
            "colorbar": {
             "outlinewidth": 0,
             "ticks": ""
            },
            "type": "choropleth"
           }
          ],
          "contour": [
           {
            "colorbar": {
             "outlinewidth": 0,
             "ticks": ""
            },
            "colorscale": [
             [
              0,
              "#0d0887"
             ],
             [
              0.1111111111111111,
              "#46039f"
             ],
             [
              0.2222222222222222,
              "#7201a8"
             ],
             [
              0.3333333333333333,
              "#9c179e"
             ],
             [
              0.4444444444444444,
              "#bd3786"
             ],
             [
              0.5555555555555556,
              "#d8576b"
             ],
             [
              0.6666666666666666,
              "#ed7953"
             ],
             [
              0.7777777777777778,
              "#fb9f3a"
             ],
             [
              0.8888888888888888,
              "#fdca26"
             ],
             [
              1,
              "#f0f921"
             ]
            ],
            "type": "contour"
           }
          ],
          "contourcarpet": [
           {
            "colorbar": {
             "outlinewidth": 0,
             "ticks": ""
            },
            "type": "contourcarpet"
           }
          ],
          "heatmap": [
           {
            "colorbar": {
             "outlinewidth": 0,
             "ticks": ""
            },
            "colorscale": [
             [
              0,
              "#0d0887"
             ],
             [
              0.1111111111111111,
              "#46039f"
             ],
             [
              0.2222222222222222,
              "#7201a8"
             ],
             [
              0.3333333333333333,
              "#9c179e"
             ],
             [
              0.4444444444444444,
              "#bd3786"
             ],
             [
              0.5555555555555556,
              "#d8576b"
             ],
             [
              0.6666666666666666,
              "#ed7953"
             ],
             [
              0.7777777777777778,
              "#fb9f3a"
             ],
             [
              0.8888888888888888,
              "#fdca26"
             ],
             [
              1,
              "#f0f921"
             ]
            ],
            "type": "heatmap"
           }
          ],
          "heatmapgl": [
           {
            "colorbar": {
             "outlinewidth": 0,
             "ticks": ""
            },
            "colorscale": [
             [
              0,
              "#0d0887"
             ],
             [
              0.1111111111111111,
              "#46039f"
             ],
             [
              0.2222222222222222,
              "#7201a8"
             ],
             [
              0.3333333333333333,
              "#9c179e"
             ],
             [
              0.4444444444444444,
              "#bd3786"
             ],
             [
              0.5555555555555556,
              "#d8576b"
             ],
             [
              0.6666666666666666,
              "#ed7953"
             ],
             [
              0.7777777777777778,
              "#fb9f3a"
             ],
             [
              0.8888888888888888,
              "#fdca26"
             ],
             [
              1,
              "#f0f921"
             ]
            ],
            "type": "heatmapgl"
           }
          ],
          "histogram": [
           {
            "marker": {
             "pattern": {
              "fillmode": "overlay",
              "size": 10,
              "solidity": 0.2
             }
            },
            "type": "histogram"
           }
          ],
          "histogram2d": [
           {
            "colorbar": {
             "outlinewidth": 0,
             "ticks": ""
            },
            "colorscale": [
             [
              0,
              "#0d0887"
             ],
             [
              0.1111111111111111,
              "#46039f"
             ],
             [
              0.2222222222222222,
              "#7201a8"
             ],
             [
              0.3333333333333333,
              "#9c179e"
             ],
             [
              0.4444444444444444,
              "#bd3786"
             ],
             [
              0.5555555555555556,
              "#d8576b"
             ],
             [
              0.6666666666666666,
              "#ed7953"
             ],
             [
              0.7777777777777778,
              "#fb9f3a"
             ],
             [
              0.8888888888888888,
              "#fdca26"
             ],
             [
              1,
              "#f0f921"
             ]
            ],
            "type": "histogram2d"
           }
          ],
          "histogram2dcontour": [
           {
            "colorbar": {
             "outlinewidth": 0,
             "ticks": ""
            },
            "colorscale": [
             [
              0,
              "#0d0887"
             ],
             [
              0.1111111111111111,
              "#46039f"
             ],
             [
              0.2222222222222222,
              "#7201a8"
             ],
             [
              0.3333333333333333,
              "#9c179e"
             ],
             [
              0.4444444444444444,
              "#bd3786"
             ],
             [
              0.5555555555555556,
              "#d8576b"
             ],
             [
              0.6666666666666666,
              "#ed7953"
             ],
             [
              0.7777777777777778,
              "#fb9f3a"
             ],
             [
              0.8888888888888888,
              "#fdca26"
             ],
             [
              1,
              "#f0f921"
             ]
            ],
            "type": "histogram2dcontour"
           }
          ],
          "mesh3d": [
           {
            "colorbar": {
             "outlinewidth": 0,
             "ticks": ""
            },
            "type": "mesh3d"
           }
          ],
          "parcoords": [
           {
            "line": {
             "colorbar": {
              "outlinewidth": 0,
              "ticks": ""
             }
            },
            "type": "parcoords"
           }
          ],
          "pie": [
           {
            "automargin": true,
            "type": "pie"
           }
          ],
          "scatter": [
           {
            "fillpattern": {
             "fillmode": "overlay",
             "size": 10,
             "solidity": 0.2
            },
            "type": "scatter"
           }
          ],
          "scatter3d": [
           {
            "line": {
             "colorbar": {
              "outlinewidth": 0,
              "ticks": ""
             }
            },
            "marker": {
             "colorbar": {
              "outlinewidth": 0,
              "ticks": ""
             }
            },
            "type": "scatter3d"
           }
          ],
          "scattercarpet": [
           {
            "marker": {
             "colorbar": {
              "outlinewidth": 0,
              "ticks": ""
             }
            },
            "type": "scattercarpet"
           }
          ],
          "scattergeo": [
           {
            "marker": {
             "colorbar": {
              "outlinewidth": 0,
              "ticks": ""
             }
            },
            "type": "scattergeo"
           }
          ],
          "scattergl": [
           {
            "marker": {
             "colorbar": {
              "outlinewidth": 0,
              "ticks": ""
             }
            },
            "type": "scattergl"
           }
          ],
          "scattermapbox": [
           {
            "marker": {
             "colorbar": {
              "outlinewidth": 0,
              "ticks": ""
             }
            },
            "type": "scattermapbox"
           }
          ],
          "scatterpolar": [
           {
            "marker": {
             "colorbar": {
              "outlinewidth": 0,
              "ticks": ""
             }
            },
            "type": "scatterpolar"
           }
          ],
          "scatterpolargl": [
           {
            "marker": {
             "colorbar": {
              "outlinewidth": 0,
              "ticks": ""
             }
            },
            "type": "scatterpolargl"
           }
          ],
          "scatterternary": [
           {
            "marker": {
             "colorbar": {
              "outlinewidth": 0,
              "ticks": ""
             }
            },
            "type": "scatterternary"
           }
          ],
          "surface": [
           {
            "colorbar": {
             "outlinewidth": 0,
             "ticks": ""
            },
            "colorscale": [
             [
              0,
              "#0d0887"
             ],
             [
              0.1111111111111111,
              "#46039f"
             ],
             [
              0.2222222222222222,
              "#7201a8"
             ],
             [
              0.3333333333333333,
              "#9c179e"
             ],
             [
              0.4444444444444444,
              "#bd3786"
             ],
             [
              0.5555555555555556,
              "#d8576b"
             ],
             [
              0.6666666666666666,
              "#ed7953"
             ],
             [
              0.7777777777777778,
              "#fb9f3a"
             ],
             [
              0.8888888888888888,
              "#fdca26"
             ],
             [
              1,
              "#f0f921"
             ]
            ],
            "type": "surface"
           }
          ],
          "table": [
           {
            "cells": {
             "fill": {
              "color": "#EBF0F8"
             },
             "line": {
              "color": "white"
             }
            },
            "header": {
             "fill": {
              "color": "#C8D4E3"
             },
             "line": {
              "color": "white"
             }
            },
            "type": "table"
           }
          ]
         },
         "layout": {
          "annotationdefaults": {
           "arrowcolor": "#2a3f5f",
           "arrowhead": 0,
           "arrowwidth": 1
          },
          "autotypenumbers": "strict",
          "coloraxis": {
           "colorbar": {
            "outlinewidth": 0,
            "ticks": ""
           }
          },
          "colorscale": {
           "diverging": [
            [
             0,
             "#8e0152"
            ],
            [
             0.1,
             "#c51b7d"
            ],
            [
             0.2,
             "#de77ae"
            ],
            [
             0.3,
             "#f1b6da"
            ],
            [
             0.4,
             "#fde0ef"
            ],
            [
             0.5,
             "#f7f7f7"
            ],
            [
             0.6,
             "#e6f5d0"
            ],
            [
             0.7,
             "#b8e186"
            ],
            [
             0.8,
             "#7fbc41"
            ],
            [
             0.9,
             "#4d9221"
            ],
            [
             1,
             "#276419"
            ]
           ],
           "sequential": [
            [
             0,
             "#0d0887"
            ],
            [
             0.1111111111111111,
             "#46039f"
            ],
            [
             0.2222222222222222,
             "#7201a8"
            ],
            [
             0.3333333333333333,
             "#9c179e"
            ],
            [
             0.4444444444444444,
             "#bd3786"
            ],
            [
             0.5555555555555556,
             "#d8576b"
            ],
            [
             0.6666666666666666,
             "#ed7953"
            ],
            [
             0.7777777777777778,
             "#fb9f3a"
            ],
            [
             0.8888888888888888,
             "#fdca26"
            ],
            [
             1,
             "#f0f921"
            ]
           ],
           "sequentialminus": [
            [
             0,
             "#0d0887"
            ],
            [
             0.1111111111111111,
             "#46039f"
            ],
            [
             0.2222222222222222,
             "#7201a8"
            ],
            [
             0.3333333333333333,
             "#9c179e"
            ],
            [
             0.4444444444444444,
             "#bd3786"
            ],
            [
             0.5555555555555556,
             "#d8576b"
            ],
            [
             0.6666666666666666,
             "#ed7953"
            ],
            [
             0.7777777777777778,
             "#fb9f3a"
            ],
            [
             0.8888888888888888,
             "#fdca26"
            ],
            [
             1,
             "#f0f921"
            ]
           ]
          },
          "colorway": [
           "#636efa",
           "#EF553B",
           "#00cc96",
           "#ab63fa",
           "#FFA15A",
           "#19d3f3",
           "#FF6692",
           "#B6E880",
           "#FF97FF",
           "#FECB52"
          ],
          "font": {
           "color": "#2a3f5f"
          },
          "geo": {
           "bgcolor": "white",
           "lakecolor": "white",
           "landcolor": "#E5ECF6",
           "showlakes": true,
           "showland": true,
           "subunitcolor": "white"
          },
          "hoverlabel": {
           "align": "left"
          },
          "hovermode": "closest",
          "mapbox": {
           "style": "light"
          },
          "paper_bgcolor": "white",
          "plot_bgcolor": "#E5ECF6",
          "polar": {
           "angularaxis": {
            "gridcolor": "white",
            "linecolor": "white",
            "ticks": ""
           },
           "bgcolor": "#E5ECF6",
           "radialaxis": {
            "gridcolor": "white",
            "linecolor": "white",
            "ticks": ""
           }
          },
          "scene": {
           "xaxis": {
            "backgroundcolor": "#E5ECF6",
            "gridcolor": "white",
            "gridwidth": 2,
            "linecolor": "white",
            "showbackground": true,
            "ticks": "",
            "zerolinecolor": "white"
           },
           "yaxis": {
            "backgroundcolor": "#E5ECF6",
            "gridcolor": "white",
            "gridwidth": 2,
            "linecolor": "white",
            "showbackground": true,
            "ticks": "",
            "zerolinecolor": "white"
           },
           "zaxis": {
            "backgroundcolor": "#E5ECF6",
            "gridcolor": "white",
            "gridwidth": 2,
            "linecolor": "white",
            "showbackground": true,
            "ticks": "",
            "zerolinecolor": "white"
           }
          },
          "shapedefaults": {
           "line": {
            "color": "#2a3f5f"
           }
          },
          "ternary": {
           "aaxis": {
            "gridcolor": "white",
            "linecolor": "white",
            "ticks": ""
           },
           "baxis": {
            "gridcolor": "white",
            "linecolor": "white",
            "ticks": ""
           },
           "bgcolor": "#E5ECF6",
           "caxis": {
            "gridcolor": "white",
            "linecolor": "white",
            "ticks": ""
           }
          },
          "title": {
           "x": 0.05
          },
          "xaxis": {
           "automargin": true,
           "gridcolor": "white",
           "linecolor": "white",
           "ticks": "",
           "title": {
            "standoff": 15
           },
           "zerolinecolor": "white",
           "zerolinewidth": 2
          },
          "yaxis": {
           "automargin": true,
           "gridcolor": "white",
           "linecolor": "white",
           "ticks": "",
           "title": {
            "standoff": 15
           },
           "zerolinecolor": "white",
           "zerolinewidth": 2
          }
         }
        },
        "xaxis": {
         "anchor": "y",
         "domain": [
          0,
          1
         ],
         "title": {
          "text": "album_name"
         }
        },
        "yaxis": {
         "anchor": "x",
         "domain": [
          0,
          1
         ],
         "title": {
          "text": "count"
         }
        }
       }
      }
     },
     "metadata": {},
     "output_type": "display_data"
    }
   ],
   "source": [
    "fig = px.bar(data_frame=df[['album_name', 'artist_name', 'total_tracks']][df['artist_name'] == '2Pac'],\n",
    "    x='album_name'\n",
    "    )\n",
    "fig.show()"
   ]
  },
  {
   "cell_type": "markdown",
   "metadata": {},
   "source": [
    "### Affichage cartes"
   ]
  },
  {
   "cell_type": "code",
   "execution_count": 9,
   "metadata": {},
   "outputs": [
    {
     "data": {
      "text/plain": [
       "1701"
      ]
     },
     "execution_count": 9,
     "metadata": {},
     "output_type": "execute_result"
    }
   ],
   "source": [
    "len(df['artist_id'].unique())"
   ]
  },
  {
   "cell_type": "code",
   "execution_count": 10,
   "metadata": {},
   "outputs": [
    {
     "name": "stdout",
     "output_type": "stream",
     "text": [
      "1701 artistes\n"
     ]
    }
   ],
   "source": [
    "print(f'{len(df[\"artist_id\"].unique())} artistes')"
   ]
  },
  {
   "cell_type": "code",
   "execution_count": 12,
   "metadata": {},
   "outputs": [
    {
     "name": "stdout",
     "output_type": "stream",
     "text": [
      "18061 albums\n"
     ]
    }
   ],
   "source": [
    "print(f'{len(df[\"album_id\"].unique())} albums')"
   ]
  },
  {
   "cell_type": "code",
   "execution_count": 14,
   "metadata": {},
   "outputs": [
    {
     "name": "stdout",
     "output_type": "stream",
     "text": [
      "261515 titres\n"
     ]
    }
   ],
   "source": [
    "print(f'{len(df[\"track_id\"].unique())} titres')"
   ]
  },
  {
   "cell_type": "code",
   "execution_count": 19,
   "metadata": {},
   "outputs": [
    {
     "data": {
      "text/plain": [
       "0         ['deathrock', 'post-punk', 'darkwave', 'cold w...\n",
       "1         ['deathrock', 'post-punk', 'darkwave', 'cold w...\n",
       "2         ['deathrock', 'post-punk', 'darkwave', 'cold w...\n",
       "3         ['deathrock', 'post-punk', 'darkwave', 'cold w...\n",
       "4         ['deathrock', 'post-punk', 'darkwave', 'cold w...\n",
       "                                ...                        \n",
       "265043                              ['flamenco', 'new age']\n",
       "265044                              ['flamenco', 'new age']\n",
       "265045                              ['flamenco', 'new age']\n",
       "265046                              ['flamenco', 'new age']\n",
       "265047                              ['flamenco', 'new age']\n",
       "Name: genres_artist, Length: 265048, dtype: object"
      ]
     },
     "execution_count": 19,
     "metadata": {},
     "output_type": "execute_result"
    }
   ],
   "source": [
    "df['genres_artist']"
   ]
  },
  {
   "cell_type": "code",
   "execution_count": 30,
   "metadata": {},
   "outputs": [
    {
     "data": {
      "application/vnd.microsoft.datawrangler.viewer.v0+json": {
       "columns": [
        {
         "name": "index",
         "rawType": "int64",
         "type": "integer"
        },
        {
         "name": "album_name",
         "rawType": "object",
         "type": "string"
        },
        {
         "name": "album_id",
         "rawType": "object",
         "type": "string"
        },
        {
         "name": "album_type",
         "rawType": "object",
         "type": "string"
        },
        {
         "name": "total_tracks",
         "rawType": "int64",
         "type": "integer"
        },
        {
         "name": "release_date",
         "rawType": "object",
         "type": "string"
        },
        {
         "name": "release_date_precision",
         "rawType": "object",
         "type": "string"
        },
        {
         "name": "label",
         "rawType": "object",
         "type": "unknown"
        },
        {
         "name": "popularity_album",
         "rawType": "int64",
         "type": "integer"
        },
        {
         "name": "disc_number",
         "rawType": "int64",
         "type": "integer"
        },
        {
         "name": "track_number",
         "rawType": "int64",
         "type": "integer"
        },
        {
         "name": "track_id",
         "rawType": "object",
         "type": "string"
        },
        {
         "name": "track_name",
         "rawType": "object",
         "type": "string"
        },
        {
         "name": "duration_ms",
         "rawType": "int64",
         "type": "integer"
        },
        {
         "name": "artist_id",
         "rawType": "object",
         "type": "string"
        },
        {
         "name": "url_image_album",
         "rawType": "object",
         "type": "unknown"
        },
        {
         "name": "artist_name",
         "rawType": "object",
         "type": "string"
        },
        {
         "name": "popularity_artist",
         "rawType": "int64",
         "type": "integer"
        },
        {
         "name": "artist_followers",
         "rawType": "int64",
         "type": "integer"
        },
        {
         "name": "genres_artist",
         "rawType": "object",
         "type": "string"
        },
        {
         "name": "image_artist",
         "rawType": "object",
         "type": "string"
        }
       ],
       "conversionMethod": "pd.DataFrame",
       "ref": "23aa7516-9ccf-414b-8c95-84e4c3d92f20",
       "rows": [
        [
         "0",
         "The Naked and the Dead",
         "3JiQXpSQCwZMQfa7cdCQtg",
         "album",
         "11",
         "2019-03-01",
         "day",
         "AnnapurnA",
         "8",
         "1",
         "1",
         "3A23OJNf8a904tA0xcyihv",
         "Taboo",
         "176746",
         "16HZrqib5dArFNZ7YgukCU",
         "https://i.scdn.co/image/ab67616d0000b2734e7c814055fd8d24bf8a8c55",
         "The Naked And The Dead",
         "21",
         "18483",
         "['deathrock', 'post-punk', 'darkwave', 'cold wave']",
         "https://i.scdn.co/image/ab67616d0000b2731759ae322129aec7cff3907a"
        ],
        [
         "1",
         "The Naked and the Dead",
         "3JiQXpSQCwZMQfa7cdCQtg",
         "album",
         "11",
         "2019-03-01",
         "day",
         "AnnapurnA",
         "8",
         "1",
         "2",
         "5sNv4pOOrRYGQcge05tOvl",
         "Cassandra",
         "206160",
         "16HZrqib5dArFNZ7YgukCU",
         "https://i.scdn.co/image/ab67616d0000b2734e7c814055fd8d24bf8a8c55",
         "The Naked And The Dead",
         "21",
         "18483",
         "['deathrock', 'post-punk', 'darkwave', 'cold wave']",
         "https://i.scdn.co/image/ab67616d0000b2731759ae322129aec7cff3907a"
        ],
        [
         "2",
         "The Naked and the Dead",
         "3JiQXpSQCwZMQfa7cdCQtg",
         "album",
         "11",
         "2019-03-01",
         "day",
         "AnnapurnA",
         "8",
         "1",
         "3",
         "0VgEaKOOYQpXRYrspCPqE5",
         "Carousel",
         "249773",
         "16HZrqib5dArFNZ7YgukCU",
         "https://i.scdn.co/image/ab67616d0000b2734e7c814055fd8d24bf8a8c55",
         "The Naked And The Dead",
         "21",
         "18483",
         "['deathrock', 'post-punk', 'darkwave', 'cold wave']",
         "https://i.scdn.co/image/ab67616d0000b2731759ae322129aec7cff3907a"
        ],
        [
         "3",
         "The Naked and the Dead",
         "3JiQXpSQCwZMQfa7cdCQtg",
         "album",
         "11",
         "2019-03-01",
         "day",
         "AnnapurnA",
         "8",
         "1",
         "4",
         "4QSj5oXxxadySUTJsAiTSX",
         "The Gate",
         "297840",
         "16HZrqib5dArFNZ7YgukCU",
         "https://i.scdn.co/image/ab67616d0000b2734e7c814055fd8d24bf8a8c55",
         "The Naked And The Dead",
         "21",
         "18483",
         "['deathrock', 'post-punk', 'darkwave', 'cold wave']",
         "https://i.scdn.co/image/ab67616d0000b2731759ae322129aec7cff3907a"
        ],
        [
         "4",
         "The Naked and the Dead",
         "3JiQXpSQCwZMQfa7cdCQtg",
         "album",
         "11",
         "2019-03-01",
         "day",
         "AnnapurnA",
         "8",
         "1",
         "5",
         "4ORVKuAyzqJpg0JxgUmre0",
         "Real Good Time",
         "153333",
         "16HZrqib5dArFNZ7YgukCU",
         "https://i.scdn.co/image/ab67616d0000b2734e7c814055fd8d24bf8a8c55",
         "The Naked And The Dead",
         "21",
         "18483",
         "['deathrock', 'post-punk', 'darkwave', 'cold wave']",
         "https://i.scdn.co/image/ab67616d0000b2731759ae322129aec7cff3907a"
        ],
        [
         "5",
         "The Naked and the Dead",
         "3JiQXpSQCwZMQfa7cdCQtg",
         "album",
         "11",
         "2019-03-01",
         "day",
         "AnnapurnA",
         "8",
         "1",
         "6",
         "77MJ01riLP5CqR8YqfeZlZ",
         "Duel",
         "194306",
         "16HZrqib5dArFNZ7YgukCU",
         "https://i.scdn.co/image/ab67616d0000b2734e7c814055fd8d24bf8a8c55",
         "The Naked And The Dead",
         "21",
         "18483",
         "['deathrock', 'post-punk', 'darkwave', 'cold wave']",
         "https://i.scdn.co/image/ab67616d0000b2731759ae322129aec7cff3907a"
        ],
        [
         "6",
         "The Naked and the Dead",
         "3JiQXpSQCwZMQfa7cdCQtg",
         "album",
         "11",
         "2019-03-01",
         "day",
         "AnnapurnA",
         "8",
         "1",
         "7",
         "6abRsUwBGtP3XaqklLwEhp",
         "Kisses Like Death",
         "222906",
         "16HZrqib5dArFNZ7YgukCU",
         "https://i.scdn.co/image/ab67616d0000b2734e7c814055fd8d24bf8a8c55",
         "The Naked And The Dead",
         "21",
         "18483",
         "['deathrock', 'post-punk', 'darkwave', 'cold wave']",
         "https://i.scdn.co/image/ab67616d0000b2731759ae322129aec7cff3907a"
        ],
        [
         "7",
         "The Naked and the Dead",
         "3JiQXpSQCwZMQfa7cdCQtg",
         "album",
         "11",
         "2019-03-01",
         "day",
         "AnnapurnA",
         "8",
         "1",
         "8",
         "2iOKBbIxrAgqWHtIpLEbJ1",
         "Faith Floods Down",
         "266506",
         "16HZrqib5dArFNZ7YgukCU",
         "https://i.scdn.co/image/ab67616d0000b2734e7c814055fd8d24bf8a8c55",
         "The Naked And The Dead",
         "21",
         "18483",
         "['deathrock', 'post-punk', 'darkwave', 'cold wave']",
         "https://i.scdn.co/image/ab67616d0000b2731759ae322129aec7cff3907a"
        ],
        [
         "8",
         "The Naked and the Dead",
         "3JiQXpSQCwZMQfa7cdCQtg",
         "album",
         "11",
         "2019-03-01",
         "day",
         "AnnapurnA",
         "8",
         "1",
         "9",
         "0NDMBEzGzGQkThn2G7guO2",
         "Cat of the Nine",
         "162480",
         "16HZrqib5dArFNZ7YgukCU",
         "https://i.scdn.co/image/ab67616d0000b2734e7c814055fd8d24bf8a8c55",
         "The Naked And The Dead",
         "21",
         "18483",
         "['deathrock', 'post-punk', 'darkwave', 'cold wave']",
         "https://i.scdn.co/image/ab67616d0000b2731759ae322129aec7cff3907a"
        ],
        [
         "9",
         "The Naked and the Dead",
         "3JiQXpSQCwZMQfa7cdCQtg",
         "album",
         "11",
         "2019-03-01",
         "day",
         "AnnapurnA",
         "8",
         "1",
         "10",
         "6tfsA9F3HlFjIXS2usnSzt",
         "Godfather Grimoire",
         "394266",
         "16HZrqib5dArFNZ7YgukCU",
         "https://i.scdn.co/image/ab67616d0000b2734e7c814055fd8d24bf8a8c55",
         "The Naked And The Dead",
         "21",
         "18483",
         "['deathrock', 'post-punk', 'darkwave', 'cold wave']",
         "https://i.scdn.co/image/ab67616d0000b2731759ae322129aec7cff3907a"
        ],
        [
         "10",
         "The Naked and the Dead",
         "3JiQXpSQCwZMQfa7cdCQtg",
         "album",
         "11",
         "2019-03-01",
         "day",
         "AnnapurnA",
         "8",
         "1",
         "11",
         "1d740niyEtx9DgSofIvAsg",
         "Sense of Elation",
         "207453",
         "16HZrqib5dArFNZ7YgukCU",
         "https://i.scdn.co/image/ab67616d0000b2734e7c814055fd8d24bf8a8c55",
         "The Naked And The Dead",
         "21",
         "18483",
         "['deathrock', 'post-punk', 'darkwave', 'cold wave']",
         "https://i.scdn.co/image/ab67616d0000b2731759ae322129aec7cff3907a"
        ],
        [
         "11",
         "The Reunion Rehearsals",
         "7vMCTROv1IiSrZ3pXHb3OY",
         "album",
         "7",
         "2002-12-01",
         "day",
         "Rue Morgue Music",
         "3",
         "1",
         "1",
         "3s7aldHrtACsidlhLSqaJu",
         "Aftereffect",
         "187454",
         "16HZrqib5dArFNZ7YgukCU",
         "https://i.scdn.co/image/ab67616d0000b2738cba8e9ef6677d233d7d158e",
         "The Naked And The Dead",
         "21",
         "18483",
         "['deathrock', 'post-punk', 'darkwave', 'cold wave']",
         "https://i.scdn.co/image/ab67616d0000b2731759ae322129aec7cff3907a"
        ],
        [
         "12",
         "The Reunion Rehearsals",
         "7vMCTROv1IiSrZ3pXHb3OY",
         "album",
         "7",
         "2002-12-01",
         "day",
         "Rue Morgue Music",
         "3",
         "1",
         "2",
         "58IGER9mD3bonx3704nz4P",
         "Gravity Defied",
         "193593",
         "16HZrqib5dArFNZ7YgukCU",
         "https://i.scdn.co/image/ab67616d0000b2738cba8e9ef6677d233d7d158e",
         "The Naked And The Dead",
         "21",
         "18483",
         "['deathrock', 'post-punk', 'darkwave', 'cold wave']",
         "https://i.scdn.co/image/ab67616d0000b2731759ae322129aec7cff3907a"
        ],
        [
         "13",
         "The Reunion Rehearsals",
         "7vMCTROv1IiSrZ3pXHb3OY",
         "album",
         "7",
         "2002-12-01",
         "day",
         "Rue Morgue Music",
         "3",
         "1",
         "3",
         "7zP5TCxTDeX837JGyy2zz3",
         "Exit Through the Plastic",
         "263471",
         "16HZrqib5dArFNZ7YgukCU",
         "https://i.scdn.co/image/ab67616d0000b2738cba8e9ef6677d233d7d158e",
         "The Naked And The Dead",
         "21",
         "18483",
         "['deathrock', 'post-punk', 'darkwave', 'cold wave']",
         "https://i.scdn.co/image/ab67616d0000b2731759ae322129aec7cff3907a"
        ],
        [
         "14",
         "The Reunion Rehearsals",
         "7vMCTROv1IiSrZ3pXHb3OY",
         "album",
         "7",
         "2002-12-01",
         "day",
         "Rue Morgue Music",
         "3",
         "1",
         "4",
         "62PCgXP0GAfA8rJTri5OGl",
         "Life on Trial",
         "265586",
         "16HZrqib5dArFNZ7YgukCU",
         "https://i.scdn.co/image/ab67616d0000b2738cba8e9ef6677d233d7d158e",
         "The Naked And The Dead",
         "21",
         "18483",
         "['deathrock', 'post-punk', 'darkwave', 'cold wave']",
         "https://i.scdn.co/image/ab67616d0000b2731759ae322129aec7cff3907a"
        ],
        [
         "15",
         "The Reunion Rehearsals",
         "7vMCTROv1IiSrZ3pXHb3OY",
         "album",
         "7",
         "2002-12-01",
         "day",
         "Rue Morgue Music",
         "3",
         "1",
         "5",
         "1T1ZDTA52ZLu0ewIvojlpS",
         "Party Time at the Funeral Parlor",
         "214857",
         "16HZrqib5dArFNZ7YgukCU",
         "https://i.scdn.co/image/ab67616d0000b2738cba8e9ef6677d233d7d158e",
         "The Naked And The Dead",
         "21",
         "18483",
         "['deathrock', 'post-punk', 'darkwave', 'cold wave']",
         "https://i.scdn.co/image/ab67616d0000b2731759ae322129aec7cff3907a"
        ],
        [
         "16",
         "The Reunion Rehearsals",
         "7vMCTROv1IiSrZ3pXHb3OY",
         "album",
         "7",
         "2002-12-01",
         "day",
         "Rue Morgue Music",
         "3",
         "1",
         "6",
         "1Go3xdruvlw8iGAFrOr4qa",
         "The City's on Fire",
         "142915",
         "16HZrqib5dArFNZ7YgukCU",
         "https://i.scdn.co/image/ab67616d0000b2738cba8e9ef6677d233d7d158e",
         "The Naked And The Dead",
         "21",
         "18483",
         "['deathrock', 'post-punk', 'darkwave', 'cold wave']",
         "https://i.scdn.co/image/ab67616d0000b2731759ae322129aec7cff3907a"
        ],
        [
         "17",
         "The Reunion Rehearsals",
         "7vMCTROv1IiSrZ3pXHb3OY",
         "album",
         "7",
         "2002-12-01",
         "day",
         "Rue Morgue Music",
         "3",
         "1",
         "7",
         "5tcJNxvVu49D26GpIp4g5j",
         "Happy Ending Package",
         "184842",
         "16HZrqib5dArFNZ7YgukCU",
         "https://i.scdn.co/image/ab67616d0000b2738cba8e9ef6677d233d7d158e",
         "The Naked And The Dead",
         "21",
         "18483",
         "['deathrock', 'post-punk', 'darkwave', 'cold wave']",
         "https://i.scdn.co/image/ab67616d0000b2731759ae322129aec7cff3907a"
        ],
        [
         "18",
         "Remember - On Stage at The Half Moon (Live)",
         "1wW9WDS7GmW59JdrgRlk6G",
         "album",
         "15",
         "2023-04-14",
         "day",
         "Westpark Music",
         "5",
         "1",
         "1",
         "03F87dB5naoTaszLP2hCiu",
         "Remember - Live",
         "191854",
         "2Wd6dWP1QK0ofkTvTWjhTZ",
         "https://i.scdn.co/image/ab67616d0000b273cfb294745c1a3974cb0323d6",
         "Latin Quarter",
         "22",
         "5153",
         "[]",
         "https://i.scdn.co/image/ab67616d0000b273ea84554bb45fd9370873db07"
        ],
        [
         "19",
         "Remember - On Stage at The Half Moon (Live)",
         "1wW9WDS7GmW59JdrgRlk6G",
         "album",
         "15",
         "2023-04-14",
         "day",
         "Westpark Music",
         "5",
         "1",
         "2",
         "3bQ1mvhWa3LOiODDCY2BQe",
         "Nico - Live",
         "201258",
         "2Wd6dWP1QK0ofkTvTWjhTZ",
         "https://i.scdn.co/image/ab67616d0000b273cfb294745c1a3974cb0323d6",
         "Latin Quarter",
         "22",
         "5153",
         "[]",
         "https://i.scdn.co/image/ab67616d0000b273ea84554bb45fd9370873db07"
        ],
        [
         "20",
         "Remember - On Stage at The Half Moon (Live)",
         "1wW9WDS7GmW59JdrgRlk6G",
         "album",
         "15",
         "2023-04-14",
         "day",
         "Westpark Music",
         "5",
         "1",
         "3",
         "2Sr4t1gXrTokOntxvXMFKh",
         "Phil Ochs - Live",
         "254343",
         "2Wd6dWP1QK0ofkTvTWjhTZ",
         "https://i.scdn.co/image/ab67616d0000b273cfb294745c1a3974cb0323d6",
         "Latin Quarter",
         "22",
         "5153",
         "[]",
         "https://i.scdn.co/image/ab67616d0000b273ea84554bb45fd9370873db07"
        ],
        [
         "21",
         "Remember - On Stage at The Half Moon (Live)",
         "1wW9WDS7GmW59JdrgRlk6G",
         "album",
         "15",
         "2023-04-14",
         "day",
         "Westpark Music",
         "5",
         "1",
         "4",
         "0hVEeYbS1JmuBE4H32xE96",
         "Dominion - Live",
         "253050",
         "2Wd6dWP1QK0ofkTvTWjhTZ",
         "https://i.scdn.co/image/ab67616d0000b273cfb294745c1a3974cb0323d6",
         "Latin Quarter",
         "22",
         "5153",
         "[]",
         "https://i.scdn.co/image/ab67616d0000b273ea84554bb45fd9370873db07"
        ],
        [
         "22",
         "Remember - On Stage at The Half Moon (Live)",
         "1wW9WDS7GmW59JdrgRlk6G",
         "album",
         "15",
         "2023-04-14",
         "day",
         "Westpark Music",
         "5",
         "1",
         "5",
         "1CK81ovirgeKLdhOly7u7X",
         "Dylan Thomas Was Right - Live",
         "198324",
         "2Wd6dWP1QK0ofkTvTWjhTZ",
         "https://i.scdn.co/image/ab67616d0000b273cfb294745c1a3974cb0323d6",
         "Latin Quarter",
         "22",
         "5153",
         "[]",
         "https://i.scdn.co/image/ab67616d0000b273ea84554bb45fd9370873db07"
        ],
        [
         "23",
         "Remember - On Stage at The Half Moon (Live)",
         "1wW9WDS7GmW59JdrgRlk6G",
         "album",
         "15",
         "2023-04-14",
         "day",
         "Westpark Music",
         "5",
         "1",
         "6",
         "0zsowa3WWMd5zWF4nD6cbR",
         "Even Superman - Live",
         "217286",
         "2Wd6dWP1QK0ofkTvTWjhTZ",
         "https://i.scdn.co/image/ab67616d0000b273cfb294745c1a3974cb0323d6",
         "Latin Quarter",
         "22",
         "5153",
         "[]",
         "https://i.scdn.co/image/ab67616d0000b273ea84554bb45fd9370873db07"
        ],
        [
         "24",
         "Remember - On Stage at The Half Moon (Live)",
         "1wW9WDS7GmW59JdrgRlk6G",
         "album",
         "15",
         "2023-04-14",
         "day",
         "Westpark Music",
         "5",
         "1",
         "7",
         "3N2iPvLMX2sfDDqY0FCxOr",
         "Swimming Against the Stream - Live",
         "190202",
         "2Wd6dWP1QK0ofkTvTWjhTZ",
         "https://i.scdn.co/image/ab67616d0000b273cfb294745c1a3974cb0323d6",
         "Latin Quarter",
         "22",
         "5153",
         "[]",
         "https://i.scdn.co/image/ab67616d0000b273ea84554bb45fd9370873db07"
        ],
        [
         "25",
         "Remember - On Stage at The Half Moon (Live)",
         "1wW9WDS7GmW59JdrgRlk6G",
         "album",
         "15",
         "2023-04-14",
         "day",
         "Westpark Music",
         "5",
         "1",
         "8",
         "69DM88mhd6A25eyfTpreik",
         "Older - Live",
         "285751",
         "2Wd6dWP1QK0ofkTvTWjhTZ",
         "https://i.scdn.co/image/ab67616d0000b273cfb294745c1a3974cb0323d6",
         "Latin Quarter",
         "22",
         "5153",
         "[]",
         "https://i.scdn.co/image/ab67616d0000b273ea84554bb45fd9370873db07"
        ],
        [
         "26",
         "Remember - On Stage at The Half Moon (Live)",
         "1wW9WDS7GmW59JdrgRlk6G",
         "album",
         "15",
         "2023-04-14",
         "day",
         "Westpark Music",
         "5",
         "1",
         "9",
         "6jAKpr3n5LJs9M6GhPvNw2",
         "You and Me - Live",
         "298636",
         "2Wd6dWP1QK0ofkTvTWjhTZ",
         "https://i.scdn.co/image/ab67616d0000b273cfb294745c1a3974cb0323d6",
         "Latin Quarter",
         "22",
         "5153",
         "[]",
         "https://i.scdn.co/image/ab67616d0000b273ea84554bb45fd9370873db07"
        ],
        [
         "27",
         "Remember - On Stage at The Half Moon (Live)",
         "1wW9WDS7GmW59JdrgRlk6G",
         "album",
         "15",
         "2023-04-14",
         "day",
         "Westpark Music",
         "5",
         "1",
         "10",
         "3w1YMmKLptqsXQuz1gh6iz",
         "Niamh - Live",
         "188316",
         "2Wd6dWP1QK0ofkTvTWjhTZ",
         "https://i.scdn.co/image/ab67616d0000b273cfb294745c1a3974cb0323d6",
         "Latin Quarter",
         "22",
         "5153",
         "[]",
         "https://i.scdn.co/image/ab67616d0000b273ea84554bb45fd9370873db07"
        ],
        [
         "28",
         "Remember - On Stage at The Half Moon (Live)",
         "1wW9WDS7GmW59JdrgRlk6G",
         "album",
         "15",
         "2023-04-14",
         "day",
         "Westpark Music",
         "5",
         "1",
         "11",
         "4vUdu61DfKltgPBEasz1dQ",
         "Free As a Bird - Live",
         "223884",
         "2Wd6dWP1QK0ofkTvTWjhTZ",
         "https://i.scdn.co/image/ab67616d0000b273cfb294745c1a3974cb0323d6",
         "Latin Quarter",
         "22",
         "5153",
         "[]",
         "https://i.scdn.co/image/ab67616d0000b273ea84554bb45fd9370873db07"
        ],
        [
         "29",
         "Remember - On Stage at The Half Moon (Live)",
         "1wW9WDS7GmW59JdrgRlk6G",
         "album",
         "15",
         "2023-04-14",
         "day",
         "Westpark Music",
         "5",
         "1",
         "12",
         "5UJE7GWR1sLJznWtvWV4QH",
         "I Want You - Live",
         "187727",
         "2Wd6dWP1QK0ofkTvTWjhTZ",
         "https://i.scdn.co/image/ab67616d0000b273cfb294745c1a3974cb0323d6",
         "Latin Quarter",
         "22",
         "5153",
         "[]",
         "https://i.scdn.co/image/ab67616d0000b273ea84554bb45fd9370873db07"
        ],
        [
         "30",
         "Remember - On Stage at The Half Moon (Live)",
         "1wW9WDS7GmW59JdrgRlk6G",
         "album",
         "15",
         "2023-04-14",
         "day",
         "Westpark Music",
         "5",
         "1",
         "13",
         "3ZhXDG1MGCEgEDqiHw1XA8",
         "Eddie - Live",
         "236174",
         "2Wd6dWP1QK0ofkTvTWjhTZ",
         "https://i.scdn.co/image/ab67616d0000b273cfb294745c1a3974cb0323d6",
         "Latin Quarter",
         "22",
         "5153",
         "[]",
         "https://i.scdn.co/image/ab67616d0000b273ea84554bb45fd9370873db07"
        ],
        [
         "31",
         "Remember - On Stage at The Half Moon (Live)",
         "1wW9WDS7GmW59JdrgRlk6G",
         "album",
         "15",
         "2023-04-14",
         "day",
         "Westpark Music",
         "5",
         "1",
         "14",
         "4YouRgKK7bMUZlSa9hNkN0",
         "All I Could Do - Live",
         "238181",
         "2Wd6dWP1QK0ofkTvTWjhTZ",
         "https://i.scdn.co/image/ab67616d0000b273cfb294745c1a3974cb0323d6",
         "Latin Quarter",
         "22",
         "5153",
         "[]",
         "https://i.scdn.co/image/ab67616d0000b273ea84554bb45fd9370873db07"
        ],
        [
         "32",
         "Remember - On Stage at The Half Moon (Live)",
         "1wW9WDS7GmW59JdrgRlk6G",
         "album",
         "15",
         "2023-04-14",
         "day",
         "Westpark Music",
         "5",
         "1",
         "15",
         "7FD2HNwI2WTNEAeyQ8G98M",
         "The Pantomime of Wealth - Live",
         "349098",
         "2Wd6dWP1QK0ofkTvTWjhTZ",
         "https://i.scdn.co/image/ab67616d0000b273cfb294745c1a3974cb0323d6",
         "Latin Quarter",
         "22",
         "5153",
         "[]",
         "https://i.scdn.co/image/ab67616d0000b273ea84554bb45fd9370873db07"
        ],
        [
         "33",
         "Releasing the Sheep",
         "4FinDYSmR1sWWw028HSEiO",
         "album",
         "13",
         "2021-10-29",
         "day",
         "Westpark Music",
         "5",
         "1",
         "1",
         "0EgRKyAhwx8gohOvMdCt0X",
         "Mandela's Ghost",
         "175425",
         "2Wd6dWP1QK0ofkTvTWjhTZ",
         "https://i.scdn.co/image/ab67616d0000b273a74fd0b252a57e3ff266ce11",
         "Latin Quarter",
         "22",
         "5153",
         "[]",
         "https://i.scdn.co/image/ab67616d0000b273ea84554bb45fd9370873db07"
        ],
        [
         "34",
         "Releasing the Sheep",
         "4FinDYSmR1sWWw028HSEiO",
         "album",
         "13",
         "2021-10-29",
         "day",
         "Westpark Music",
         "5",
         "1",
         "2",
         "7MCp3mtMtZw6bYUN74gFFZ",
         "Mersey Tales",
         "276932",
         "2Wd6dWP1QK0ofkTvTWjhTZ",
         "https://i.scdn.co/image/ab67616d0000b273a74fd0b252a57e3ff266ce11",
         "Latin Quarter",
         "22",
         "5153",
         "[]",
         "https://i.scdn.co/image/ab67616d0000b273ea84554bb45fd9370873db07"
        ],
        [
         "35",
         "Releasing the Sheep",
         "4FinDYSmR1sWWw028HSEiO",
         "album",
         "13",
         "2021-10-29",
         "day",
         "Westpark Music",
         "5",
         "1",
         "3",
         "0xjCwgH63FSxrqpAAXSnQ7",
         "Equality Not Revenge",
         "209265",
         "2Wd6dWP1QK0ofkTvTWjhTZ",
         "https://i.scdn.co/image/ab67616d0000b273a74fd0b252a57e3ff266ce11",
         "Latin Quarter",
         "22",
         "5153",
         "[]",
         "https://i.scdn.co/image/ab67616d0000b273ea84554bb45fd9370873db07"
        ],
        [
         "36",
         "Releasing the Sheep",
         "4FinDYSmR1sWWw028HSEiO",
         "album",
         "13",
         "2021-10-29",
         "day",
         "Westpark Music",
         "5",
         "1",
         "4",
         "09XUIolkCX6fjkoUKQoVdz",
         "Another Day with You",
         "229945",
         "2Wd6dWP1QK0ofkTvTWjhTZ",
         "https://i.scdn.co/image/ab67616d0000b273a74fd0b252a57e3ff266ce11",
         "Latin Quarter",
         "22",
         "5153",
         "[]",
         "https://i.scdn.co/image/ab67616d0000b273ea84554bb45fd9370873db07"
        ],
        [
         "37",
         "Releasing the Sheep",
         "4FinDYSmR1sWWw028HSEiO",
         "album",
         "13",
         "2021-10-29",
         "day",
         "Westpark Music",
         "5",
         "1",
         "5",
         "5ekwbseue8SZYWGDSuHy0d",
         "Nightschool",
         "202000",
         "2Wd6dWP1QK0ofkTvTWjhTZ",
         "https://i.scdn.co/image/ab67616d0000b273a74fd0b252a57e3ff266ce11",
         "Latin Quarter",
         "22",
         "5153",
         "[]",
         "https://i.scdn.co/image/ab67616d0000b273ea84554bb45fd9370873db07"
        ],
        [
         "38",
         "Releasing the Sheep",
         "4FinDYSmR1sWWw028HSEiO",
         "album",
         "13",
         "2021-10-29",
         "day",
         "Westpark Music",
         "5",
         "1",
         "6",
         "3BYjPbk6KDlJAgGPVCye3W",
         "Growing My Shadow",
         "182280",
         "2Wd6dWP1QK0ofkTvTWjhTZ",
         "https://i.scdn.co/image/ab67616d0000b273a74fd0b252a57e3ff266ce11",
         "Latin Quarter",
         "22",
         "5153",
         "[]",
         "https://i.scdn.co/image/ab67616d0000b273ea84554bb45fd9370873db07"
        ],
        [
         "39",
         "Releasing the Sheep",
         "4FinDYSmR1sWWw028HSEiO",
         "album",
         "13",
         "2021-10-29",
         "day",
         "Westpark Music",
         "5",
         "1",
         "7",
         "6k954ruGUPZxYYLbYuSk1u",
         "Keeping My Head",
         "178012",
         "2Wd6dWP1QK0ofkTvTWjhTZ",
         "https://i.scdn.co/image/ab67616d0000b273a74fd0b252a57e3ff266ce11",
         "Latin Quarter",
         "22",
         "5153",
         "[]",
         "https://i.scdn.co/image/ab67616d0000b273ea84554bb45fd9370873db07"
        ],
        [
         "40",
         "Releasing the Sheep",
         "4FinDYSmR1sWWw028HSEiO",
         "album",
         "13",
         "2021-10-29",
         "day",
         "Westpark Music",
         "5",
         "1",
         "8",
         "1YcDTt2cLQAkNXjIrWrIdZ",
         "That's Why I Turned My Badge In",
         "212505",
         "2Wd6dWP1QK0ofkTvTWjhTZ",
         "https://i.scdn.co/image/ab67616d0000b273a74fd0b252a57e3ff266ce11",
         "Latin Quarter",
         "22",
         "5153",
         "[]",
         "https://i.scdn.co/image/ab67616d0000b273ea84554bb45fd9370873db07"
        ],
        [
         "41",
         "Releasing the Sheep",
         "4FinDYSmR1sWWw028HSEiO",
         "album",
         "13",
         "2021-10-29",
         "day",
         "Westpark Music",
         "5",
         "1",
         "9",
         "0kp4cncGVGfAfM7KKsDmir",
         "The Bevin Boys",
         "218612",
         "2Wd6dWP1QK0ofkTvTWjhTZ",
         "https://i.scdn.co/image/ab67616d0000b273a74fd0b252a57e3ff266ce11",
         "Latin Quarter",
         "22",
         "5153",
         "[]",
         "https://i.scdn.co/image/ab67616d0000b273ea84554bb45fd9370873db07"
        ],
        [
         "42",
         "Releasing the Sheep",
         "4FinDYSmR1sWWw028HSEiO",
         "album",
         "13",
         "2021-10-29",
         "day",
         "Westpark Music",
         "5",
         "1",
         "10",
         "4jws5Bc9ceC6VJt5bf5Sw2",
         "Your Last Show",
         "198105",
         "2Wd6dWP1QK0ofkTvTWjhTZ",
         "https://i.scdn.co/image/ab67616d0000b273a74fd0b252a57e3ff266ce11",
         "Latin Quarter",
         "22",
         "5153",
         "[]",
         "https://i.scdn.co/image/ab67616d0000b273ea84554bb45fd9370873db07"
        ],
        [
         "43",
         "Releasing the Sheep",
         "4FinDYSmR1sWWw028HSEiO",
         "album",
         "13",
         "2021-10-29",
         "day",
         "Westpark Music",
         "5",
         "1",
         "11",
         "681t15uTi5wcOMlve3mzL2",
         "MAGA: A Very Stable Genius",
         "208194",
         "2Wd6dWP1QK0ofkTvTWjhTZ",
         "https://i.scdn.co/image/ab67616d0000b273a74fd0b252a57e3ff266ce11",
         "Latin Quarter",
         "22",
         "5153",
         "[]",
         "https://i.scdn.co/image/ab67616d0000b273ea84554bb45fd9370873db07"
        ],
        [
         "44",
         "Releasing the Sheep",
         "4FinDYSmR1sWWw028HSEiO",
         "album",
         "13",
         "2021-10-29",
         "day",
         "Westpark Music",
         "5",
         "1",
         "12",
         "4pRSaUuBwelljN4SawAgE2",
         "Releasing the Sheep",
         "292480",
         "2Wd6dWP1QK0ofkTvTWjhTZ",
         "https://i.scdn.co/image/ab67616d0000b273a74fd0b252a57e3ff266ce11",
         "Latin Quarter",
         "22",
         "5153",
         "[]",
         "https://i.scdn.co/image/ab67616d0000b273ea84554bb45fd9370873db07"
        ],
        [
         "45",
         "Releasing the Sheep",
         "4FinDYSmR1sWWw028HSEiO",
         "album",
         "13",
         "2021-10-29",
         "day",
         "Westpark Music",
         "5",
         "1",
         "13",
         "0whXbjR0Z7zt9h8YG7Y58I",
         "King and Castle",
         "308785",
         "2Wd6dWP1QK0ofkTvTWjhTZ",
         "https://i.scdn.co/image/ab67616d0000b273a74fd0b252a57e3ff266ce11",
         "Latin Quarter",
         "22",
         "5153",
         "[]",
         "https://i.scdn.co/image/ab67616d0000b273ea84554bb45fd9370873db07"
        ],
        [
         "46",
         "Pantomime of Wealth",
         "63l8CJQNcdlSvdJMiZ2chA",
         "album",
         "13",
         "2018-04-13",
         "day",
         "Westpark Music",
         "4",
         "1",
         "1",
         "6zIZf0lBMfcpTeT4T1tEpM",
         "The Pantomime of Wealth",
         "266505",
         "2Wd6dWP1QK0ofkTvTWjhTZ",
         "https://i.scdn.co/image/ab67616d0000b273a007862c728844fbc12d97b5",
         "Latin Quarter",
         "22",
         "5153",
         "[]",
         "https://i.scdn.co/image/ab67616d0000b273ea84554bb45fd9370873db07"
        ],
        [
         "47",
         "Pantomime of Wealth",
         "63l8CJQNcdlSvdJMiZ2chA",
         "album",
         "13",
         "2018-04-13",
         "day",
         "Westpark Music",
         "4",
         "1",
         "2",
         "2G8SHLHXGXSwOuzAD9C3dc",
         "Beat the Air",
         "205225",
         "2Wd6dWP1QK0ofkTvTWjhTZ",
         "https://i.scdn.co/image/ab67616d0000b273a007862c728844fbc12d97b5",
         "Latin Quarter",
         "22",
         "5153",
         "[]",
         "https://i.scdn.co/image/ab67616d0000b273ea84554bb45fd9370873db07"
        ],
        [
         "48",
         "Pantomime of Wealth",
         "63l8CJQNcdlSvdJMiZ2chA",
         "album",
         "13",
         "2018-04-13",
         "day",
         "Westpark Music",
         "4",
         "1",
         "3",
         "3isHcYRcMbSjj2hqqalSXq",
         "Oh Mexico",
         "179105",
         "2Wd6dWP1QK0ofkTvTWjhTZ",
         "https://i.scdn.co/image/ab67616d0000b273a007862c728844fbc12d97b5",
         "Latin Quarter",
         "22",
         "5153",
         "[]",
         "https://i.scdn.co/image/ab67616d0000b273ea84554bb45fd9370873db07"
        ],
        [
         "49",
         "Pantomime of Wealth",
         "63l8CJQNcdlSvdJMiZ2chA",
         "album",
         "13",
         "2018-04-13",
         "day",
         "Westpark Music",
         "4",
         "1",
         "4",
         "2sWXcJvWqUPTL4d0z2IFWA",
         "20,878",
         "159332",
         "2Wd6dWP1QK0ofkTvTWjhTZ",
         "https://i.scdn.co/image/ab67616d0000b273a007862c728844fbc12d97b5",
         "Latin Quarter",
         "22",
         "5153",
         "[]",
         "https://i.scdn.co/image/ab67616d0000b273ea84554bb45fd9370873db07"
        ]
       ],
       "shape": {
        "columns": 20,
        "rows": 265048
       }
      },
      "text/html": [
       "<div>\n",
       "<style scoped>\n",
       "    .dataframe tbody tr th:only-of-type {\n",
       "        vertical-align: middle;\n",
       "    }\n",
       "\n",
       "    .dataframe tbody tr th {\n",
       "        vertical-align: top;\n",
       "    }\n",
       "\n",
       "    .dataframe thead th {\n",
       "        text-align: right;\n",
       "    }\n",
       "</style>\n",
       "<table border=\"1\" class=\"dataframe\">\n",
       "  <thead>\n",
       "    <tr style=\"text-align: right;\">\n",
       "      <th></th>\n",
       "      <th>album_name</th>\n",
       "      <th>album_id</th>\n",
       "      <th>album_type</th>\n",
       "      <th>total_tracks</th>\n",
       "      <th>release_date</th>\n",
       "      <th>release_date_precision</th>\n",
       "      <th>label</th>\n",
       "      <th>popularity_album</th>\n",
       "      <th>disc_number</th>\n",
       "      <th>track_number</th>\n",
       "      <th>track_id</th>\n",
       "      <th>track_name</th>\n",
       "      <th>duration_ms</th>\n",
       "      <th>artist_id</th>\n",
       "      <th>url_image_album</th>\n",
       "      <th>artist_name</th>\n",
       "      <th>popularity_artist</th>\n",
       "      <th>artist_followers</th>\n",
       "      <th>genres_artist</th>\n",
       "      <th>image_artist</th>\n",
       "    </tr>\n",
       "  </thead>\n",
       "  <tbody>\n",
       "    <tr>\n",
       "      <th>0</th>\n",
       "      <td>The Naked and the Dead</td>\n",
       "      <td>3JiQXpSQCwZMQfa7cdCQtg</td>\n",
       "      <td>album</td>\n",
       "      <td>11</td>\n",
       "      <td>2019-03-01</td>\n",
       "      <td>day</td>\n",
       "      <td>AnnapurnA</td>\n",
       "      <td>8</td>\n",
       "      <td>1</td>\n",
       "      <td>1</td>\n",
       "      <td>3A23OJNf8a904tA0xcyihv</td>\n",
       "      <td>Taboo</td>\n",
       "      <td>176746</td>\n",
       "      <td>16HZrqib5dArFNZ7YgukCU</td>\n",
       "      <td>https://i.scdn.co/image/ab67616d0000b2734e7c81...</td>\n",
       "      <td>The Naked And The Dead</td>\n",
       "      <td>21</td>\n",
       "      <td>18483</td>\n",
       "      <td>['deathrock', 'post-punk', 'darkwave', 'cold w...</td>\n",
       "      <td>https://i.scdn.co/image/ab67616d0000b2731759ae...</td>\n",
       "    </tr>\n",
       "    <tr>\n",
       "      <th>1</th>\n",
       "      <td>The Naked and the Dead</td>\n",
       "      <td>3JiQXpSQCwZMQfa7cdCQtg</td>\n",
       "      <td>album</td>\n",
       "      <td>11</td>\n",
       "      <td>2019-03-01</td>\n",
       "      <td>day</td>\n",
       "      <td>AnnapurnA</td>\n",
       "      <td>8</td>\n",
       "      <td>1</td>\n",
       "      <td>2</td>\n",
       "      <td>5sNv4pOOrRYGQcge05tOvl</td>\n",
       "      <td>Cassandra</td>\n",
       "      <td>206160</td>\n",
       "      <td>16HZrqib5dArFNZ7YgukCU</td>\n",
       "      <td>https://i.scdn.co/image/ab67616d0000b2734e7c81...</td>\n",
       "      <td>The Naked And The Dead</td>\n",
       "      <td>21</td>\n",
       "      <td>18483</td>\n",
       "      <td>['deathrock', 'post-punk', 'darkwave', 'cold w...</td>\n",
       "      <td>https://i.scdn.co/image/ab67616d0000b2731759ae...</td>\n",
       "    </tr>\n",
       "    <tr>\n",
       "      <th>2</th>\n",
       "      <td>The Naked and the Dead</td>\n",
       "      <td>3JiQXpSQCwZMQfa7cdCQtg</td>\n",
       "      <td>album</td>\n",
       "      <td>11</td>\n",
       "      <td>2019-03-01</td>\n",
       "      <td>day</td>\n",
       "      <td>AnnapurnA</td>\n",
       "      <td>8</td>\n",
       "      <td>1</td>\n",
       "      <td>3</td>\n",
       "      <td>0VgEaKOOYQpXRYrspCPqE5</td>\n",
       "      <td>Carousel</td>\n",
       "      <td>249773</td>\n",
       "      <td>16HZrqib5dArFNZ7YgukCU</td>\n",
       "      <td>https://i.scdn.co/image/ab67616d0000b2734e7c81...</td>\n",
       "      <td>The Naked And The Dead</td>\n",
       "      <td>21</td>\n",
       "      <td>18483</td>\n",
       "      <td>['deathrock', 'post-punk', 'darkwave', 'cold w...</td>\n",
       "      <td>https://i.scdn.co/image/ab67616d0000b2731759ae...</td>\n",
       "    </tr>\n",
       "    <tr>\n",
       "      <th>3</th>\n",
       "      <td>The Naked and the Dead</td>\n",
       "      <td>3JiQXpSQCwZMQfa7cdCQtg</td>\n",
       "      <td>album</td>\n",
       "      <td>11</td>\n",
       "      <td>2019-03-01</td>\n",
       "      <td>day</td>\n",
       "      <td>AnnapurnA</td>\n",
       "      <td>8</td>\n",
       "      <td>1</td>\n",
       "      <td>4</td>\n",
       "      <td>4QSj5oXxxadySUTJsAiTSX</td>\n",
       "      <td>The Gate</td>\n",
       "      <td>297840</td>\n",
       "      <td>16HZrqib5dArFNZ7YgukCU</td>\n",
       "      <td>https://i.scdn.co/image/ab67616d0000b2734e7c81...</td>\n",
       "      <td>The Naked And The Dead</td>\n",
       "      <td>21</td>\n",
       "      <td>18483</td>\n",
       "      <td>['deathrock', 'post-punk', 'darkwave', 'cold w...</td>\n",
       "      <td>https://i.scdn.co/image/ab67616d0000b2731759ae...</td>\n",
       "    </tr>\n",
       "    <tr>\n",
       "      <th>4</th>\n",
       "      <td>The Naked and the Dead</td>\n",
       "      <td>3JiQXpSQCwZMQfa7cdCQtg</td>\n",
       "      <td>album</td>\n",
       "      <td>11</td>\n",
       "      <td>2019-03-01</td>\n",
       "      <td>day</td>\n",
       "      <td>AnnapurnA</td>\n",
       "      <td>8</td>\n",
       "      <td>1</td>\n",
       "      <td>5</td>\n",
       "      <td>4ORVKuAyzqJpg0JxgUmre0</td>\n",
       "      <td>Real Good Time</td>\n",
       "      <td>153333</td>\n",
       "      <td>16HZrqib5dArFNZ7YgukCU</td>\n",
       "      <td>https://i.scdn.co/image/ab67616d0000b2734e7c81...</td>\n",
       "      <td>The Naked And The Dead</td>\n",
       "      <td>21</td>\n",
       "      <td>18483</td>\n",
       "      <td>['deathrock', 'post-punk', 'darkwave', 'cold w...</td>\n",
       "      <td>https://i.scdn.co/image/ab67616d0000b2731759ae...</td>\n",
       "    </tr>\n",
       "    <tr>\n",
       "      <th>...</th>\n",
       "      <td>...</td>\n",
       "      <td>...</td>\n",
       "      <td>...</td>\n",
       "      <td>...</td>\n",
       "      <td>...</td>\n",
       "      <td>...</td>\n",
       "      <td>...</td>\n",
       "      <td>...</td>\n",
       "      <td>...</td>\n",
       "      <td>...</td>\n",
       "      <td>...</td>\n",
       "      <td>...</td>\n",
       "      <td>...</td>\n",
       "      <td>...</td>\n",
       "      <td>...</td>\n",
       "      <td>...</td>\n",
       "      <td>...</td>\n",
       "      <td>...</td>\n",
       "      <td>...</td>\n",
       "      <td>...</td>\n",
       "    </tr>\n",
       "    <tr>\n",
       "      <th>265043</th>\n",
       "      <td>Borrasca</td>\n",
       "      <td>69dd5s9JyQYrcNH4nbG8A8</td>\n",
       "      <td>album</td>\n",
       "      <td>15</td>\n",
       "      <td>1991-01-01</td>\n",
       "      <td>day</td>\n",
       "      <td>Higher Octave</td>\n",
       "      <td>32</td>\n",
       "      <td>1</td>\n",
       "      <td>11</td>\n",
       "      <td>6XYa9qD1caUhYWMaZoaEIk</td>\n",
       "      <td>Driving 2 Madrid (B4 The Storm)</td>\n",
       "      <td>248866</td>\n",
       "      <td>1AhYnfs5mzb3ennyLFXlYD</td>\n",
       "      <td>https://i.scdn.co/image/ab67616d0000b27327f261...</td>\n",
       "      <td>Ottmar Liebert</td>\n",
       "      <td>42</td>\n",
       "      <td>76248</td>\n",
       "      <td>['flamenco', 'new age']</td>\n",
       "      <td>https://i.scdn.co/image/79f595ea0b3ca026a7fd2e...</td>\n",
       "    </tr>\n",
       "    <tr>\n",
       "      <th>265044</th>\n",
       "      <td>Borrasca</td>\n",
       "      <td>69dd5s9JyQYrcNH4nbG8A8</td>\n",
       "      <td>album</td>\n",
       "      <td>15</td>\n",
       "      <td>1991-01-01</td>\n",
       "      <td>day</td>\n",
       "      <td>Higher Octave</td>\n",
       "      <td>32</td>\n",
       "      <td>1</td>\n",
       "      <td>12</td>\n",
       "      <td>3EYKgGVJuXuBkDicPAQUhT</td>\n",
       "      <td>The Storm Sings</td>\n",
       "      <td>239293</td>\n",
       "      <td>1AhYnfs5mzb3ennyLFXlYD</td>\n",
       "      <td>https://i.scdn.co/image/ab67616d0000b27327f261...</td>\n",
       "      <td>Ottmar Liebert</td>\n",
       "      <td>42</td>\n",
       "      <td>76248</td>\n",
       "      <td>['flamenco', 'new age']</td>\n",
       "      <td>https://i.scdn.co/image/79f595ea0b3ca026a7fd2e...</td>\n",
       "    </tr>\n",
       "    <tr>\n",
       "      <th>265045</th>\n",
       "      <td>Borrasca</td>\n",
       "      <td>69dd5s9JyQYrcNH4nbG8A8</td>\n",
       "      <td>album</td>\n",
       "      <td>15</td>\n",
       "      <td>1991-01-01</td>\n",
       "      <td>day</td>\n",
       "      <td>Higher Octave</td>\n",
       "      <td>32</td>\n",
       "      <td>1</td>\n",
       "      <td>13</td>\n",
       "      <td>011sSJRzBME5JxpsTvBKIF</td>\n",
       "      <td>Night In Granada</td>\n",
       "      <td>232373</td>\n",
       "      <td>1AhYnfs5mzb3ennyLFXlYD</td>\n",
       "      <td>https://i.scdn.co/image/ab67616d0000b27327f261...</td>\n",
       "      <td>Ottmar Liebert</td>\n",
       "      <td>42</td>\n",
       "      <td>76248</td>\n",
       "      <td>['flamenco', 'new age']</td>\n",
       "      <td>https://i.scdn.co/image/79f595ea0b3ca026a7fd2e...</td>\n",
       "    </tr>\n",
       "    <tr>\n",
       "      <th>265046</th>\n",
       "      <td>Borrasca</td>\n",
       "      <td>69dd5s9JyQYrcNH4nbG8A8</td>\n",
       "      <td>album</td>\n",
       "      <td>15</td>\n",
       "      <td>1991-01-01</td>\n",
       "      <td>day</td>\n",
       "      <td>Higher Octave</td>\n",
       "      <td>32</td>\n",
       "      <td>1</td>\n",
       "      <td>14</td>\n",
       "      <td>5re0XNJhWf2BbC0igr1yCt</td>\n",
       "      <td>1st Rain/Cry Of Faith</td>\n",
       "      <td>272626</td>\n",
       "      <td>1AhYnfs5mzb3ennyLFXlYD</td>\n",
       "      <td>https://i.scdn.co/image/ab67616d0000b27327f261...</td>\n",
       "      <td>Ottmar Liebert</td>\n",
       "      <td>42</td>\n",
       "      <td>76248</td>\n",
       "      <td>['flamenco', 'new age']</td>\n",
       "      <td>https://i.scdn.co/image/79f595ea0b3ca026a7fd2e...</td>\n",
       "    </tr>\n",
       "    <tr>\n",
       "      <th>265047</th>\n",
       "      <td>Borrasca</td>\n",
       "      <td>69dd5s9JyQYrcNH4nbG8A8</td>\n",
       "      <td>album</td>\n",
       "      <td>15</td>\n",
       "      <td>1991-01-01</td>\n",
       "      <td>day</td>\n",
       "      <td>Higher Octave</td>\n",
       "      <td>32</td>\n",
       "      <td>1</td>\n",
       "      <td>15</td>\n",
       "      <td>5964zPjCuJDwL2BpFDISE7</td>\n",
       "      <td>Bajo La Luna Mix</td>\n",
       "      <td>379866</td>\n",
       "      <td>1AhYnfs5mzb3ennyLFXlYD</td>\n",
       "      <td>https://i.scdn.co/image/ab67616d0000b27327f261...</td>\n",
       "      <td>Ottmar Liebert</td>\n",
       "      <td>42</td>\n",
       "      <td>76248</td>\n",
       "      <td>['flamenco', 'new age']</td>\n",
       "      <td>https://i.scdn.co/image/79f595ea0b3ca026a7fd2e...</td>\n",
       "    </tr>\n",
       "  </tbody>\n",
       "</table>\n",
       "<p>265048 rows × 20 columns</p>\n",
       "</div>"
      ],
      "text/plain": [
       "                    album_name                album_id album_type  \\\n",
       "0       The Naked and the Dead  3JiQXpSQCwZMQfa7cdCQtg      album   \n",
       "1       The Naked and the Dead  3JiQXpSQCwZMQfa7cdCQtg      album   \n",
       "2       The Naked and the Dead  3JiQXpSQCwZMQfa7cdCQtg      album   \n",
       "3       The Naked and the Dead  3JiQXpSQCwZMQfa7cdCQtg      album   \n",
       "4       The Naked and the Dead  3JiQXpSQCwZMQfa7cdCQtg      album   \n",
       "...                        ...                     ...        ...   \n",
       "265043                Borrasca  69dd5s9JyQYrcNH4nbG8A8      album   \n",
       "265044                Borrasca  69dd5s9JyQYrcNH4nbG8A8      album   \n",
       "265045                Borrasca  69dd5s9JyQYrcNH4nbG8A8      album   \n",
       "265046                Borrasca  69dd5s9JyQYrcNH4nbG8A8      album   \n",
       "265047                Borrasca  69dd5s9JyQYrcNH4nbG8A8      album   \n",
       "\n",
       "        total_tracks release_date release_date_precision          label  \\\n",
       "0                 11   2019-03-01                    day      AnnapurnA   \n",
       "1                 11   2019-03-01                    day      AnnapurnA   \n",
       "2                 11   2019-03-01                    day      AnnapurnA   \n",
       "3                 11   2019-03-01                    day      AnnapurnA   \n",
       "4                 11   2019-03-01                    day      AnnapurnA   \n",
       "...              ...          ...                    ...            ...   \n",
       "265043            15   1991-01-01                    day  Higher Octave   \n",
       "265044            15   1991-01-01                    day  Higher Octave   \n",
       "265045            15   1991-01-01                    day  Higher Octave   \n",
       "265046            15   1991-01-01                    day  Higher Octave   \n",
       "265047            15   1991-01-01                    day  Higher Octave   \n",
       "\n",
       "        popularity_album  disc_number  track_number                track_id  \\\n",
       "0                      8            1             1  3A23OJNf8a904tA0xcyihv   \n",
       "1                      8            1             2  5sNv4pOOrRYGQcge05tOvl   \n",
       "2                      8            1             3  0VgEaKOOYQpXRYrspCPqE5   \n",
       "3                      8            1             4  4QSj5oXxxadySUTJsAiTSX   \n",
       "4                      8            1             5  4ORVKuAyzqJpg0JxgUmre0   \n",
       "...                  ...          ...           ...                     ...   \n",
       "265043                32            1            11  6XYa9qD1caUhYWMaZoaEIk   \n",
       "265044                32            1            12  3EYKgGVJuXuBkDicPAQUhT   \n",
       "265045                32            1            13  011sSJRzBME5JxpsTvBKIF   \n",
       "265046                32            1            14  5re0XNJhWf2BbC0igr1yCt   \n",
       "265047                32            1            15  5964zPjCuJDwL2BpFDISE7   \n",
       "\n",
       "                             track_name  duration_ms               artist_id  \\\n",
       "0                                 Taboo       176746  16HZrqib5dArFNZ7YgukCU   \n",
       "1                             Cassandra       206160  16HZrqib5dArFNZ7YgukCU   \n",
       "2                              Carousel       249773  16HZrqib5dArFNZ7YgukCU   \n",
       "3                              The Gate       297840  16HZrqib5dArFNZ7YgukCU   \n",
       "4                        Real Good Time       153333  16HZrqib5dArFNZ7YgukCU   \n",
       "...                                 ...          ...                     ...   \n",
       "265043  Driving 2 Madrid (B4 The Storm)       248866  1AhYnfs5mzb3ennyLFXlYD   \n",
       "265044                  The Storm Sings       239293  1AhYnfs5mzb3ennyLFXlYD   \n",
       "265045                 Night In Granada       232373  1AhYnfs5mzb3ennyLFXlYD   \n",
       "265046            1st Rain/Cry Of Faith       272626  1AhYnfs5mzb3ennyLFXlYD   \n",
       "265047                 Bajo La Luna Mix       379866  1AhYnfs5mzb3ennyLFXlYD   \n",
       "\n",
       "                                          url_image_album  \\\n",
       "0       https://i.scdn.co/image/ab67616d0000b2734e7c81...   \n",
       "1       https://i.scdn.co/image/ab67616d0000b2734e7c81...   \n",
       "2       https://i.scdn.co/image/ab67616d0000b2734e7c81...   \n",
       "3       https://i.scdn.co/image/ab67616d0000b2734e7c81...   \n",
       "4       https://i.scdn.co/image/ab67616d0000b2734e7c81...   \n",
       "...                                                   ...   \n",
       "265043  https://i.scdn.co/image/ab67616d0000b27327f261...   \n",
       "265044  https://i.scdn.co/image/ab67616d0000b27327f261...   \n",
       "265045  https://i.scdn.co/image/ab67616d0000b27327f261...   \n",
       "265046  https://i.scdn.co/image/ab67616d0000b27327f261...   \n",
       "265047  https://i.scdn.co/image/ab67616d0000b27327f261...   \n",
       "\n",
       "                   artist_name  popularity_artist  artist_followers  \\\n",
       "0       The Naked And The Dead                 21             18483   \n",
       "1       The Naked And The Dead                 21             18483   \n",
       "2       The Naked And The Dead                 21             18483   \n",
       "3       The Naked And The Dead                 21             18483   \n",
       "4       The Naked And The Dead                 21             18483   \n",
       "...                        ...                ...               ...   \n",
       "265043          Ottmar Liebert                 42             76248   \n",
       "265044          Ottmar Liebert                 42             76248   \n",
       "265045          Ottmar Liebert                 42             76248   \n",
       "265046          Ottmar Liebert                 42             76248   \n",
       "265047          Ottmar Liebert                 42             76248   \n",
       "\n",
       "                                            genres_artist  \\\n",
       "0       ['deathrock', 'post-punk', 'darkwave', 'cold w...   \n",
       "1       ['deathrock', 'post-punk', 'darkwave', 'cold w...   \n",
       "2       ['deathrock', 'post-punk', 'darkwave', 'cold w...   \n",
       "3       ['deathrock', 'post-punk', 'darkwave', 'cold w...   \n",
       "4       ['deathrock', 'post-punk', 'darkwave', 'cold w...   \n",
       "...                                                   ...   \n",
       "265043                            ['flamenco', 'new age']   \n",
       "265044                            ['flamenco', 'new age']   \n",
       "265045                            ['flamenco', 'new age']   \n",
       "265046                            ['flamenco', 'new age']   \n",
       "265047                            ['flamenco', 'new age']   \n",
       "\n",
       "                                             image_artist  \n",
       "0       https://i.scdn.co/image/ab67616d0000b2731759ae...  \n",
       "1       https://i.scdn.co/image/ab67616d0000b2731759ae...  \n",
       "2       https://i.scdn.co/image/ab67616d0000b2731759ae...  \n",
       "3       https://i.scdn.co/image/ab67616d0000b2731759ae...  \n",
       "4       https://i.scdn.co/image/ab67616d0000b2731759ae...  \n",
       "...                                                   ...  \n",
       "265043  https://i.scdn.co/image/79f595ea0b3ca026a7fd2e...  \n",
       "265044  https://i.scdn.co/image/79f595ea0b3ca026a7fd2e...  \n",
       "265045  https://i.scdn.co/image/79f595ea0b3ca026a7fd2e...  \n",
       "265046  https://i.scdn.co/image/79f595ea0b3ca026a7fd2e...  \n",
       "265047  https://i.scdn.co/image/79f595ea0b3ca026a7fd2e...  \n",
       "\n",
       "[265048 rows x 20 columns]"
      ]
     },
     "execution_count": 30,
     "metadata": {},
     "output_type": "execute_result"
    }
   ],
   "source": [
    "df.explode('genres_artist')"
   ]
  },
  {
   "cell_type": "code",
   "execution_count": 53,
   "metadata": {},
   "outputs": [
    {
     "data": {
      "text/plain": [
       "0"
      ]
     },
     "execution_count": 53,
     "metadata": {},
     "output_type": "execute_result"
    }
   ],
   "source": [
    "df['genres_artist'].isna().sum()"
   ]
  },
  {
   "cell_type": "code",
   "execution_count": 80,
   "metadata": {},
   "outputs": [],
   "source": [
    "df['genres_artist_clean'] = df['genres_artist'].apply(lambda x: x.replace('[', '').replace(']', '').replace(\"'\", \"\"))"
   ]
  },
  {
   "cell_type": "code",
   "execution_count": 77,
   "metadata": {},
   "outputs": [
    {
     "data": {
      "text/plain": [
       "\"'deathrock', 'post-punk', 'darkwave', 'cold wave'\""
      ]
     },
     "execution_count": 77,
     "metadata": {},
     "output_type": "execute_result"
    }
   ],
   "source": [
    "df['genres_artist'][0].replace('[', '').replace(']', '')"
   ]
  },
  {
   "cell_type": "code",
   "execution_count": 100,
   "metadata": {},
   "outputs": [],
   "source": [
    "list_genres = df['genres_artist_clean'].apply(lambda x: x.split(',')).explode().drop_duplicates()"
   ]
  },
  {
   "cell_type": "code",
   "execution_count": 101,
   "metadata": {},
   "outputs": [
    {
     "data": {
      "text/plain": [
       "594"
      ]
     },
     "execution_count": 101,
     "metadata": {},
     "output_type": "execute_result"
    }
   ],
   "source": [
    "len(list_genres.unique())"
   ]
  },
  {
   "cell_type": "code",
   "execution_count": 104,
   "metadata": {},
   "outputs": [
    {
     "data": {
      "text/plain": [
       "0          deathrock\n",
       "0          post-punk\n",
       "0           darkwave\n",
       "0          cold wave\n",
       "18                  \n",
       "             ...    \n",
       "261428        techno\n",
       "262171         disco\n",
       "262601     folk rock\n",
       "264338     folk punk\n",
       "264338     folk rock\n",
       "Name: genres_artist_clean, Length: 594, dtype: object"
      ]
     },
     "execution_count": 104,
     "metadata": {},
     "output_type": "execute_result"
    }
   ],
   "source": [
    "list_genres"
   ]
  },
  {
   "cell_type": "code",
   "execution_count": 50,
   "metadata": {},
   "outputs": [
    {
     "data": {
      "text/plain": [
       "0         ['deathrock', 'post-punk', 'darkwave', 'cold w...\n",
       "1         ['deathrock', 'post-punk', 'darkwave', 'cold w...\n",
       "2         ['deathrock', 'post-punk', 'darkwave', 'cold w...\n",
       "3         ['deathrock', 'post-punk', 'darkwave', 'cold w...\n",
       "4         ['deathrock', 'post-punk', 'darkwave', 'cold w...\n",
       "                                ...                        \n",
       "265043                              ['flamenco', 'new age']\n",
       "265044                              ['flamenco', 'new age']\n",
       "265045                              ['flamenco', 'new age']\n",
       "265046                              ['flamenco', 'new age']\n",
       "265047                              ['flamenco', 'new age']\n",
       "Name: genres_artist, Length: 265048, dtype: object"
      ]
     },
     "execution_count": 50,
     "metadata": {},
     "output_type": "execute_result"
    }
   ],
   "source": [
    "df_explo = df['genres_artist'].explode()\n",
    "df_explo"
   ]
  },
  {
   "cell_type": "code",
   "execution_count": 51,
   "metadata": {},
   "outputs": [
    {
     "data": {
      "text/plain": [
       "0         ['deathrock', 'post-punk', 'darkwave', 'cold w...\n",
       "1         ['deathrock', 'post-punk', 'darkwave', 'cold w...\n",
       "2         ['deathrock', 'post-punk', 'darkwave', 'cold w...\n",
       "3         ['deathrock', 'post-punk', 'darkwave', 'cold w...\n",
       "4         ['deathrock', 'post-punk', 'darkwave', 'cold w...\n",
       "                                ...                        \n",
       "265043                              ['flamenco', 'new age']\n",
       "265044                              ['flamenco', 'new age']\n",
       "265045                              ['flamenco', 'new age']\n",
       "265046                              ['flamenco', 'new age']\n",
       "265047                              ['flamenco', 'new age']\n",
       "Name: genres_artist, Length: 265048, dtype: object"
      ]
     },
     "execution_count": 51,
     "metadata": {},
     "output_type": "execute_result"
    }
   ],
   "source": [
    "df_explo.explode()"
   ]
  }
 ],
 "metadata": {
  "kernelspec": {
   "display_name": "Python 3",
   "language": "python",
   "name": "python3"
  },
  "language_info": {
   "codemirror_mode": {
    "name": "ipython",
    "version": 3
   },
   "file_extension": ".py",
   "mimetype": "text/x-python",
   "name": "python",
   "nbconvert_exporter": "python",
   "pygments_lexer": "ipython3",
   "version": "3.11.9"
  }
 },
 "nbformat": 4,
 "nbformat_minor": 2
}
